{
 "cells": [
  {
   "cell_type": "markdown",
   "id": "16c54899",
   "metadata": {},
   "source": [
    "# The core objective is to predict electricity demand for every 10-minute block of the day(144 blocks total) for APU, a major power provider.\n"
   ]
  },
  {
   "cell_type": "markdown",
   "id": "61f2679a",
   "metadata": {},
   "source": [
    "##  **Dataset:** Utility consumption data (10-min intervals) + weather + holidays\n",
    "## **Tools Used:** Python, Pandas, Prophet, Matplotlib, Seaborn"
   ]
  },
  {
   "cell_type": "markdown",
   "id": "09173c5c",
   "metadata": {},
   "source": [
    "## Exploratory Data Analysis (EDA) & Data Cleaning"
   ]
  },
  {
   "cell_type": "code",
   "execution_count": 1,
   "id": "d745d4bd",
   "metadata": {},
   "outputs": [],
   "source": [
    "import pandas as pd\n",
    "import numpy as np\n",
    "import matplotlib.pyplot as plt\n",
    "import seaborn as sns\n",
    "from scipy import stats\n"
   ]
  },
  {
   "cell_type": "markdown",
   "id": "05f4afb1",
   "metadata": {},
   "source": [
    "### Load Data"
   ]
  },
  {
   "cell_type": "code",
   "execution_count": 2,
   "id": "55d2dabd",
   "metadata": {},
   "outputs": [],
   "source": [
    "df = pd.read_csv(\"C:/Users/ASUS/Downloads/Assignment-1, Intelligent-Power-Demand-Forecasting/Data/Utility_consumption.csv\")\n"
   ]
  },
  {
   "cell_type": "markdown",
   "id": "a3eee803",
   "metadata": {},
   "source": [
    "#### The provided data is in mixed formet so we have used Formet - mixed below"
   ]
  },
  {
   "cell_type": "code",
   "execution_count": 3,
   "id": "19dbf279",
   "metadata": {},
   "outputs": [],
   "source": [
    "df['Datetime'] = pd.to_datetime(df['Datetime'], format='mixed',errors ='coerce')"
   ]
  },
  {
   "cell_type": "code",
   "execution_count": 4,
   "id": "2fba00d5",
   "metadata": {
    "scrolled": true
   },
   "outputs": [
    {
     "data": {
      "text/html": [
       "<div>\n",
       "<style scoped>\n",
       "    .dataframe tbody tr th:only-of-type {\n",
       "        vertical-align: middle;\n",
       "    }\n",
       "\n",
       "    .dataframe tbody tr th {\n",
       "        vertical-align: top;\n",
       "    }\n",
       "\n",
       "    .dataframe thead th {\n",
       "        text-align: right;\n",
       "    }\n",
       "</style>\n",
       "<table border=\"1\" class=\"dataframe\">\n",
       "  <thead>\n",
       "    <tr style=\"text-align: right;\">\n",
       "      <th></th>\n",
       "      <th>Datetime</th>\n",
       "      <th>Temperature</th>\n",
       "      <th>Humidity</th>\n",
       "      <th>WindSpeed</th>\n",
       "      <th>F1_132KV_PowerConsumption</th>\n",
       "      <th>F2_132KV_PowerConsumption</th>\n",
       "      <th>F3_132KV_PowerConsumption</th>\n",
       "    </tr>\n",
       "  </thead>\n",
       "  <tbody>\n",
       "    <tr>\n",
       "      <th>0</th>\n",
       "      <td>2017-01-01 00:00:00</td>\n",
       "      <td>6.559</td>\n",
       "      <td>73.8</td>\n",
       "      <td>0.083</td>\n",
       "      <td>34055.69620</td>\n",
       "      <td>16128.87538</td>\n",
       "      <td>20240.96386</td>\n",
       "    </tr>\n",
       "    <tr>\n",
       "      <th>1</th>\n",
       "      <td>2017-01-01 00:10:00</td>\n",
       "      <td>6.414</td>\n",
       "      <td>74.5</td>\n",
       "      <td>0.083</td>\n",
       "      <td>29814.68354</td>\n",
       "      <td>19375.07599</td>\n",
       "      <td>20131.08434</td>\n",
       "    </tr>\n",
       "    <tr>\n",
       "      <th>2</th>\n",
       "      <td>2017-01-01 00:20:00</td>\n",
       "      <td>6.313</td>\n",
       "      <td>74.5</td>\n",
       "      <td>0.080</td>\n",
       "      <td>29128.10127</td>\n",
       "      <td>19006.68693</td>\n",
       "      <td>19668.43373</td>\n",
       "    </tr>\n",
       "    <tr>\n",
       "      <th>3</th>\n",
       "      <td>2017-01-01 00:30:00</td>\n",
       "      <td>6.121</td>\n",
       "      <td>75.0</td>\n",
       "      <td>0.083</td>\n",
       "      <td>28228.86076</td>\n",
       "      <td>18361.09422</td>\n",
       "      <td>18899.27711</td>\n",
       "    </tr>\n",
       "    <tr>\n",
       "      <th>4</th>\n",
       "      <td>2017-01-01 00:40:00</td>\n",
       "      <td>5.921</td>\n",
       "      <td>75.7</td>\n",
       "      <td>0.081</td>\n",
       "      <td>27335.69620</td>\n",
       "      <td>17872.34043</td>\n",
       "      <td>18442.40964</td>\n",
       "    </tr>\n",
       "    <tr>\n",
       "      <th>...</th>\n",
       "      <td>...</td>\n",
       "      <td>...</td>\n",
       "      <td>...</td>\n",
       "      <td>...</td>\n",
       "      <td>...</td>\n",
       "      <td>...</td>\n",
       "      <td>...</td>\n",
       "    </tr>\n",
       "    <tr>\n",
       "      <th>52411</th>\n",
       "      <td>2017-12-30 23:10:00</td>\n",
       "      <td>7.010</td>\n",
       "      <td>72.4</td>\n",
       "      <td>0.080</td>\n",
       "      <td>31160.45627</td>\n",
       "      <td>26857.31820</td>\n",
       "      <td>14780.31212</td>\n",
       "    </tr>\n",
       "    <tr>\n",
       "      <th>52412</th>\n",
       "      <td>2017-12-30 23:20:00</td>\n",
       "      <td>6.947</td>\n",
       "      <td>72.6</td>\n",
       "      <td>0.082</td>\n",
       "      <td>30430.41825</td>\n",
       "      <td>26124.57809</td>\n",
       "      <td>14428.81152</td>\n",
       "    </tr>\n",
       "    <tr>\n",
       "      <th>52413</th>\n",
       "      <td>2017-12-30 23:30:00</td>\n",
       "      <td>6.900</td>\n",
       "      <td>72.8</td>\n",
       "      <td>0.086</td>\n",
       "      <td>29590.87452</td>\n",
       "      <td>25277.69254</td>\n",
       "      <td>13806.48259</td>\n",
       "    </tr>\n",
       "    <tr>\n",
       "      <th>52414</th>\n",
       "      <td>2017-12-30 23:40:00</td>\n",
       "      <td>6.758</td>\n",
       "      <td>73.0</td>\n",
       "      <td>0.080</td>\n",
       "      <td>28958.17490</td>\n",
       "      <td>24692.23688</td>\n",
       "      <td>13512.60504</td>\n",
       "    </tr>\n",
       "    <tr>\n",
       "      <th>52415</th>\n",
       "      <td>2017-12-30 23:50:00</td>\n",
       "      <td>6.580</td>\n",
       "      <td>74.1</td>\n",
       "      <td>0.081</td>\n",
       "      <td>28349.80989</td>\n",
       "      <td>24055.23167</td>\n",
       "      <td>13345.49820</td>\n",
       "    </tr>\n",
       "  </tbody>\n",
       "</table>\n",
       "<p>52416 rows × 7 columns</p>\n",
       "</div>"
      ],
      "text/plain": [
       "                 Datetime  Temperature  Humidity  WindSpeed  \\\n",
       "0     2017-01-01 00:00:00        6.559      73.8      0.083   \n",
       "1     2017-01-01 00:10:00        6.414      74.5      0.083   \n",
       "2     2017-01-01 00:20:00        6.313      74.5      0.080   \n",
       "3     2017-01-01 00:30:00        6.121      75.0      0.083   \n",
       "4     2017-01-01 00:40:00        5.921      75.7      0.081   \n",
       "...                   ...          ...       ...        ...   \n",
       "52411 2017-12-30 23:10:00        7.010      72.4      0.080   \n",
       "52412 2017-12-30 23:20:00        6.947      72.6      0.082   \n",
       "52413 2017-12-30 23:30:00        6.900      72.8      0.086   \n",
       "52414 2017-12-30 23:40:00        6.758      73.0      0.080   \n",
       "52415 2017-12-30 23:50:00        6.580      74.1      0.081   \n",
       "\n",
       "       F1_132KV_PowerConsumption  F2_132KV_PowerConsumption  \\\n",
       "0                    34055.69620                16128.87538   \n",
       "1                    29814.68354                19375.07599   \n",
       "2                    29128.10127                19006.68693   \n",
       "3                    28228.86076                18361.09422   \n",
       "4                    27335.69620                17872.34043   \n",
       "...                          ...                        ...   \n",
       "52411                31160.45627                26857.31820   \n",
       "52412                30430.41825                26124.57809   \n",
       "52413                29590.87452                25277.69254   \n",
       "52414                28958.17490                24692.23688   \n",
       "52415                28349.80989                24055.23167   \n",
       "\n",
       "       F3_132KV_PowerConsumption  \n",
       "0                    20240.96386  \n",
       "1                    20131.08434  \n",
       "2                    19668.43373  \n",
       "3                    18899.27711  \n",
       "4                    18442.40964  \n",
       "...                          ...  \n",
       "52411                14780.31212  \n",
       "52412                14428.81152  \n",
       "52413                13806.48259  \n",
       "52414                13512.60504  \n",
       "52415                13345.49820  \n",
       "\n",
       "[52416 rows x 7 columns]"
      ]
     },
     "execution_count": 4,
     "metadata": {},
     "output_type": "execute_result"
    }
   ],
   "source": [
    "df"
   ]
  },
  {
   "cell_type": "markdown",
   "id": "a7a49c08",
   "metadata": {},
   "source": [
    "## Goal: Understand structure, missing data, and basic stats of columns."
   ]
  },
  {
   "cell_type": "markdown",
   "id": "7fba3efd",
   "metadata": {},
   "source": [
    "### Inspect Data"
   ]
  },
  {
   "cell_type": "code",
   "execution_count": 5,
   "id": "00434954",
   "metadata": {
    "scrolled": true
   },
   "outputs": [
    {
     "data": {
      "text/plain": [
       "0"
      ]
     },
     "execution_count": 5,
     "metadata": {},
     "output_type": "execute_result"
    }
   ],
   "source": [
    "#checking missing values\n",
    "df.Datetime.isna().sum()"
   ]
  },
  {
   "cell_type": "code",
   "execution_count": 6,
   "id": "edc394da",
   "metadata": {},
   "outputs": [
    {
     "name": "stdout",
     "output_type": "stream",
     "text": [
      "             Datetime  Temperature  Humidity  WindSpeed  \\\n",
      "0 2017-01-01 00:00:00        6.559      73.8      0.083   \n",
      "1 2017-01-01 00:10:00        6.414      74.5      0.083   \n",
      "2 2017-01-01 00:20:00        6.313      74.5      0.080   \n",
      "3 2017-01-01 00:30:00        6.121      75.0      0.083   \n",
      "4 2017-01-01 00:40:00        5.921      75.7      0.081   \n",
      "\n",
      "   F1_132KV_PowerConsumption  F2_132KV_PowerConsumption  \\\n",
      "0                34055.69620                16128.87538   \n",
      "1                29814.68354                19375.07599   \n",
      "2                29128.10127                19006.68693   \n",
      "3                28228.86076                18361.09422   \n",
      "4                27335.69620                17872.34043   \n",
      "\n",
      "   F3_132KV_PowerConsumption  \n",
      "0                20240.96386  \n",
      "1                20131.08434  \n",
      "2                19668.43373  \n",
      "3                18899.27711  \n",
      "4                18442.40964  \n"
     ]
    }
   ],
   "source": [
    "print(df.head())\n"
   ]
  },
  {
   "cell_type": "markdown",
   "id": "2544d4e7",
   "metadata": {},
   "source": [
    "###  Checking Null values"
   ]
  },
  {
   "cell_type": "code",
   "execution_count": 7,
   "id": "b4b66afd",
   "metadata": {},
   "outputs": [
    {
     "name": "stdout",
     "output_type": "stream",
     "text": [
      "Datetime                     0\n",
      "Temperature                  0\n",
      "Humidity                     0\n",
      "WindSpeed                    0\n",
      "F1_132KV_PowerConsumption    0\n",
      "F2_132KV_PowerConsumption    0\n",
      "F3_132KV_PowerConsumption    0\n",
      "dtype: int64\n"
     ]
    }
   ],
   "source": [
    "print(df.isnull().sum())  # Check missing values"
   ]
  },
  {
   "cell_type": "markdown",
   "id": "e24aa901",
   "metadata": {},
   "source": [
    "### Checking Duplicat values "
   ]
  },
  {
   "cell_type": "code",
   "execution_count": 8,
   "id": "af6ed554",
   "metadata": {},
   "outputs": [
    {
     "name": "stdout",
     "output_type": "stream",
     "text": [
      "False    52416\n",
      "Name: count, dtype: int64\n"
     ]
    }
   ],
   "source": [
    "# Check if there are any duplicate rows, True → row is a duplicate, False → row is unique\n",
    "duplicates = df.duplicated()\n",
    "print(duplicates.value_counts())"
   ]
  },
  {
   "cell_type": "code",
   "execution_count": 9,
   "id": "aae0d5c5",
   "metadata": {},
   "outputs": [
    {
     "name": "stdout",
     "output_type": "stream",
     "text": [
      "Empty DataFrame\n",
      "Columns: [Datetime, Temperature, Humidity, WindSpeed, F1_132KV_PowerConsumption, F2_132KV_PowerConsumption, F3_132KV_PowerConsumption]\n",
      "Index: []\n"
     ]
    }
   ],
   "source": [
    "#Show all duplicate rows\n",
    "\n",
    "duplicate_rows = df[df.duplicated()]\n",
    "print(duplicate_rows)"
   ]
  },
  {
   "cell_type": "markdown",
   "id": "18660320",
   "metadata": {},
   "source": [
    "## Visual Exploration (EDA)\n",
    "\n",
    "### Goal: Identify patterns, and outliers visually."
   ]
  },
  {
   "cell_type": "markdown",
   "id": "9eaffb1e",
   "metadata": {},
   "source": [
    "### Finding Which Weather Parameter Affects Consumption Most"
   ]
  },
  {
   "cell_type": "code",
   "execution_count": 10,
   "id": "8ec6c3df",
   "metadata": {},
   "outputs": [
    {
     "data": {
      "image/png": "[encoded data removed]",
      "text/plain": [
       "<Figure size 1200x400 with 3 Axes>"
      ]
     },
     "metadata": {},
     "output_type": "display_data"
    }
   ],
   "source": [
    "plt.figure(figsize=(12,4))\n",
    "\n",
    "plt.subplot(1,3,1)\n",
    "plt.scatter(df['Temperature'], df['F1_132KV_PowerConsumption'], alpha=0.5)\n",
    "plt.xlabel('Temperature')\n",
    "plt.ylabel('F1 Power')\n",
    "plt.title('Temperature vs F1 Consumption')\n",
    "\n",
    "plt.subplot(1,3,2)\n",
    "plt.scatter(df['Humidity'], df['F1_132KV_PowerConsumption'], alpha=0.5)\n",
    "plt.xlabel('Humidity')\n",
    "plt.ylabel('F1 Power')\n",
    "plt.title('Humidity vs F1 Consumption')\n",
    "\n",
    "plt.subplot(1,3,3)\n",
    "plt.scatter(df['WindSpeed'], df['F1_132KV_PowerConsumption'], alpha=0.5)\n",
    "plt.xlabel('WindSpeed')\n",
    "plt.ylabel('F1 Power')\n",
    "plt.title('WindSpeed vs F1 Consumption')\n",
    "\n",
    "plt.tight_layout()\n",
    "plt.show()\n"
   ]
  },
  {
   "cell_type": "markdown",
   "id": "add6efd3",
   "metadata": {},
   "source": [
    "## Which Months have higher average power consumption?"
   ]
  },
  {
   "cell_type": "code",
   "execution_count": 11,
   "id": "dab8b3b2",
   "metadata": {},
   "outputs": [
    {
     "name": "stderr",
     "output_type": "stream",
     "text": [
      "C:\\Users\\ASUS\\AppData\\Local\\Temp\\ipykernel_28744\\460611869.py:4: FutureWarning: 'T' is deprecated and will be removed in a future version, please use 'min' instead.\n",
      "  df['Datetime'] = pd.date_range(start='2017-01-01 00:00', periods=N, freq='10T')\n"
     ]
    }
   ],
   "source": [
    "# If there's no Datetime column, create one assuming 10-min intervals starting 01-01-2017 00:00\n",
    "\n",
    "N = len(df)\n",
    "df['Datetime'] = pd.date_range(start='2017-01-01 00:00', periods=N, freq='10T')"
   ]
  },
  {
   "cell_type": "code",
   "execution_count": 12,
   "id": "7137ad1e",
   "metadata": {},
   "outputs": [],
   "source": [
    "# datetime is index now not column\n",
    "df.set_index('Datetime', inplace=True)"
   ]
  },
  {
   "cell_type": "code",
   "execution_count": 13,
   "id": "d5ddab65",
   "metadata": {},
   "outputs": [
    {
     "name": "stdout",
     "output_type": "stream",
     "text": [
      "Index(['Temperature', 'Humidity', 'WindSpeed', 'F1_132KV_PowerConsumption',\n",
      "       'F2_132KV_PowerConsumption', 'F3_132KV_PowerConsumption'],\n",
      "      dtype='object')\n"
     ]
    }
   ],
   "source": [
    "print(df.columns) # 5th vale box me jaa df ka column dekh"
   ]
  },
  {
   "cell_type": "code",
   "execution_count": 14,
   "id": "7da870a3",
   "metadata": {},
   "outputs": [
    {
     "name": "stdout",
     "output_type": "stream",
     "text": [
      "            Temperature   Humidity  WindSpeed  F1_132KV_PowerConsumption  \\\n",
      "Datetime                                                                   \n",
      "2017-01-31    12.743092  68.294122   0.707927               31032.493535   \n",
      "2017-02-28    12.644443  66.551322   1.096494               30985.753632   \n",
      "2017-03-31    14.579907  71.100029   1.006189               31155.165408   \n",
      "2017-04-30    16.444463  75.242521   0.224269               31169.768210   \n",
      "2017-05-31    20.293564  68.712440   2.298271               32396.009166   \n",
      "\n",
      "            F2_132KV_PowerConsumption  F3_132KV_PowerConsumption  \n",
      "Datetime                                                          \n",
      "2017-01-31               19394.444717               17746.095349  \n",
      "2017-02-28               18787.793096               17335.002154  \n",
      "2017-03-31               18457.937484               16947.686004  \n",
      "2017-04-30               17633.966395               18593.167677  \n",
      "2017-05-31               19977.287859               17621.100953  \n"
     ]
    },
    {
     "name": "stderr",
     "output_type": "stream",
     "text": [
      "C:\\Users\\ASUS\\AppData\\Local\\Temp\\ipykernel_28744\\2433276083.py:2: FutureWarning: 'M' is deprecated and will be removed in a future version, please use 'ME' instead.\n",
      "  df_monthly = df.resample('M').mean()  # 'M' = month-end frequency\n"
     ]
    }
   ],
   "source": [
    "# Aggregate power consumption and weather data by month (mean)\n",
    "df_monthly = df.resample('M').mean()  # 'M' = month-end frequency\n",
    "\n",
    "# Check result\n",
    "print(df_monthly.head())"
   ]
  },
  {
   "cell_type": "code",
   "execution_count": 15,
   "id": "034d8706",
   "metadata": {},
   "outputs": [
    {
     "data": {
      "image/png": "[encoded data removed]",
      "text/plain": [
       "<Figure size 1200x600 with 1 Axes>"
      ]
     },
     "metadata": {},
     "output_type": "display_data"
    }
   ],
   "source": [
    "plt.figure(figsize=(12,6))\n",
    "plt.plot(df_monthly.index, df_monthly['F1_132KV_PowerConsumption'], label='F1')\n",
    "plt.plot(df_monthly.index, df_monthly['F2_132KV_PowerConsumption'], label='F2')\n",
    "plt.plot(df_monthly.index, df_monthly['F3_132KV_PowerConsumption'], label='F3')\n",
    "plt.xlabel('Month')\n",
    "plt.ylabel('Average Power Consumption')\n",
    "plt.title('Monthly Power Consumption Trend')\n",
    "plt.legend()\n",
    "plt.show()"
   ]
  },
  {
   "cell_type": "markdown",
   "id": "9348a7dd",
   "metadata": {},
   "source": [
    "### Outliers Detection in utility data"
   ]
  },
  {
   "cell_type": "code",
   "execution_count": 16,
   "id": "a8b0ab74",
   "metadata": {
    "scrolled": true
   },
   "outputs": [
    {
     "data": {
      "image/png": "[encoded data removed]",
      "text/plain": [
       "<Figure size 1000x500 with 1 Axes>"
      ]
     },
     "metadata": {},
     "output_type": "display_data"
    }
   ],
   "source": [
    "# Boxplot to Detect Outliers\n",
    "\n",
    "plt.figure(figsize=(10,5))\n",
    "sns.boxplot(data=df[['F1_132KV_PowerConsumption','F2_132KV_PowerConsumption','F3_132KV_PowerConsumption']])\n",
    "plt.title('Load Outliers')\n",
    "plt.show()"
   ]
  },
  {
   "cell_type": "markdown",
   "id": "0a1f227d",
   "metadata": {},
   "source": [
    "## Load Weather Data"
   ]
  },
  {
   "cell_type": "code",
   "execution_count": 17,
   "id": "80326194",
   "metadata": {
    "scrolled": true
   },
   "outputs": [
    {
     "name": "stdout",
     "output_type": "stream",
     "text": [
      "                    time  temperature_2m  relative_humidity_2m  dewpoint_2m  \\\n",
      "0    2017-01-01 00:00:00            14.4                    93         13.3   \n",
      "1    2017-01-01 01:00:00            13.8                    96         13.2   \n",
      "2    2017-01-01 02:00:00            16.1                    89         14.2   \n",
      "3    2017-01-01 03:00:00            18.9                    78         14.9   \n",
      "4    2017-01-01 04:00:00            21.2                    69         15.3   \n",
      "...                  ...             ...                   ...          ...   \n",
      "8755 2017-12-31 19:00:00            14.1                    84         11.5   \n",
      "8756 2017-12-31 20:00:00            13.6                    85         11.2   \n",
      "8757 2017-12-31 21:00:00            13.2                    87         11.0   \n",
      "8758 2017-12-31 22:00:00            12.7                    89         10.9   \n",
      "8759 2017-12-31 23:00:00            12.3                    91         10.8   \n",
      "\n",
      "      surface_pressure  precipitation  windspeed_10m  \n",
      "0                987.1            0.0            5.6  \n",
      "1                987.8            0.0            4.4  \n",
      "2                988.8            0.0            4.3  \n",
      "3                989.8            0.0            2.2  \n",
      "4                990.4            0.0            2.8  \n",
      "...                ...            ...            ...  \n",
      "8755             984.6            0.0           10.2  \n",
      "8756             984.3            0.0           10.1  \n",
      "8757             984.0            0.0            8.2  \n",
      "8758             983.8            0.0            7.5  \n",
      "8759             983.8            0.0            7.6  \n",
      "\n",
      "[8760 rows x 7 columns]\n"
     ]
    }
   ],
   "source": [
    "import requests\n",
    "import pandas as pd\n",
    "# Coordinates for Dhanbad\n",
    "lat, lon = 23.7957, 86.4304\n",
    "# Open-Meteo Historical Weather API\n",
    "url = \"https://archive-api.open-meteo.com/v1/era5\"\n",
    "params = {\n",
    "    \"latitude\": lat,\n",
    "    \"longitude\": lon,\n",
    "    \"start_date\": \"2017-01-01\",\n",
    "    \"end_date\": \"2017-12-31\",\n",
    "    \"hourly\": [\"temperature_2m\", \"relative_humidity_2m\", \"dewpoint_2m\", \n",
    "               \"surface_pressure\", \"precipitation\", \"windspeed_10m\"]\n",
    "}\n",
    "response = requests.get(url, params=params)\n",
    "data = response.json()\n",
    "\n",
    "# Convert to DataFrame\n",
    "df_weather = pd.DataFrame(data[\"hourly\"])\n",
    "df_weather[\"time\"] = pd.to_datetime(df_weather[\"time\"])\n",
    "\n",
    "print(df_weather)"
   ]
  },
  {
   "cell_type": "markdown",
   "id": "d76d1c5c",
   "metadata": {},
   "source": [
    "### Analysing the weather data "
   ]
  },
  {
   "cell_type": "code",
   "execution_count": 18,
   "id": "8f0cafa0",
   "metadata": {},
   "outputs": [
    {
     "name": "stdout",
     "output_type": "stream",
     "text": [
      "Index(['time', 'temperature_2m', 'relative_humidity_2m', 'dewpoint_2m',\n",
      "       'surface_pressure', 'precipitation', 'windspeed_10m'],\n",
      "      dtype='object')\n"
     ]
    }
   ],
   "source": [
    "print(df_weather.columns)"
   ]
  },
  {
   "cell_type": "code",
   "execution_count": 19,
   "id": "dbfad5d5",
   "metadata": {},
   "outputs": [
    {
     "name": "stdout",
     "output_type": "stream",
     "text": [
      "                 time  temperature_2m  relative_humidity_2m  dewpoint_2m  \\\n",
      "0 2017-01-01 00:00:00            14.4                    93         13.3   \n",
      "1 2017-01-01 01:00:00            13.8                    96         13.2   \n",
      "2 2017-01-01 02:00:00            16.1                    89         14.2   \n",
      "3 2017-01-01 03:00:00            18.9                    78         14.9   \n",
      "4 2017-01-01 04:00:00            21.2                    69         15.3   \n",
      "\n",
      "   surface_pressure  precipitation  windspeed_10m  \n",
      "0             987.1            0.0            5.6  \n",
      "1             987.8            0.0            4.4  \n",
      "2             988.8            0.0            4.3  \n",
      "3             989.8            0.0            2.2  \n",
      "4             990.4            0.0            2.8  \n"
     ]
    }
   ],
   "source": [
    "print(df_weather.head())"
   ]
  },
  {
   "cell_type": "markdown",
   "id": "397e9b21",
   "metadata": {},
   "source": [
    "### Inspect data "
   ]
  },
  {
   "cell_type": "code",
   "execution_count": 20,
   "id": "311a0648",
   "metadata": {},
   "outputs": [
    {
     "name": "stdout",
     "output_type": "stream",
     "text": [
      "<class 'pandas.core.frame.DataFrame'>\n",
      "RangeIndex: 8760 entries, 0 to 8759\n",
      "Data columns (total 7 columns):\n",
      " #   Column                Non-Null Count  Dtype         \n",
      "---  ------                --------------  -----         \n",
      " 0   time                  8760 non-null   datetime64[ns]\n",
      " 1   temperature_2m        8760 non-null   float64       \n",
      " 2   relative_humidity_2m  8760 non-null   int64         \n",
      " 3   dewpoint_2m           8760 non-null   float64       \n",
      " 4   surface_pressure      8760 non-null   float64       \n",
      " 5   precipitation         8760 non-null   float64       \n",
      " 6   windspeed_10m         8760 non-null   float64       \n",
      "dtypes: datetime64[ns](1), float64(5), int64(1)\n",
      "memory usage: 479.2 KB\n",
      "None\n"
     ]
    }
   ],
   "source": [
    "print(df_weather.info())"
   ]
  },
  {
   "cell_type": "code",
   "execution_count": 21,
   "id": "2192a590",
   "metadata": {},
   "outputs": [
    {
     "name": "stdout",
     "output_type": "stream",
     "text": [
      "                      time  temperature_2m  relative_humidity_2m  dewpoint_2m  \\\n",
      "count                 8760     8760.000000           8760.000000  8760.000000   \n",
      "mean   2017-07-02 11:30:00       25.235377             69.480137    18.155023   \n",
      "min    2017-01-01 00:00:00        7.500000              8.000000    -1.500000   \n",
      "25%    2017-04-02 05:45:00       21.800000             54.000000    12.000000   \n",
      "50%    2017-07-02 11:30:00       25.900000             75.000000    20.500000   \n",
      "75%    2017-10-01 17:15:00       28.700000             88.000000    24.300000   \n",
      "max    2017-12-31 23:00:00       41.200000            100.000000    27.400000   \n",
      "std                    NaN        5.867821             21.957739     6.797461   \n",
      "\n",
      "       surface_pressure  precipitation  windspeed_10m  \n",
      "count       8760.000000    8760.000000    8760.000000  \n",
      "mean         979.985171       0.159372       8.251838  \n",
      "min          966.900000       0.000000       0.000000  \n",
      "25%          975.300000       0.000000       5.400000  \n",
      "50%          979.400000       0.000000       7.600000  \n",
      "75%          984.900000       0.000000      10.500000  \n",
      "max          994.500000      22.700000      32.800000  \n",
      "std            5.711404       0.819128       4.147825  \n"
     ]
    }
   ],
   "source": [
    "print(df_weather.describe())\n"
   ]
  },
  {
   "cell_type": "markdown",
   "id": "293aa581",
   "metadata": {},
   "source": [
    "### Checking Null Values in weather data"
   ]
  },
  {
   "cell_type": "code",
   "execution_count": 22,
   "id": "1ffa42b1",
   "metadata": {},
   "outputs": [
    {
     "name": "stdout",
     "output_type": "stream",
     "text": [
      "time                    0\n",
      "temperature_2m          0\n",
      "relative_humidity_2m    0\n",
      "dewpoint_2m             0\n",
      "surface_pressure        0\n",
      "precipitation           0\n",
      "windspeed_10m           0\n",
      "dtype: int64\n"
     ]
    }
   ],
   "source": [
    "print(df_weather.isnull().sum())"
   ]
  },
  {
   "cell_type": "markdown",
   "id": "ac28bee8",
   "metadata": {},
   "source": [
    "### Checking Duplicate values in weather data"
   ]
  },
  {
   "cell_type": "code",
   "execution_count": 23,
   "id": "36c6d1be",
   "metadata": {},
   "outputs": [
    {
     "name": "stdout",
     "output_type": "stream",
     "text": [
      "Empty DataFrame\n",
      "Columns: [time, temperature_2m, relative_humidity_2m, dewpoint_2m, surface_pressure, precipitation, windspeed_10m]\n",
      "Index: []\n"
     ]
    }
   ],
   "source": [
    "#Show all duplicate rows\n",
    "\n",
    "duplicate_rowsWeather = df_weather[df_weather.duplicated()]\n",
    "print(duplicate_rowsWeather)"
   ]
  },
  {
   "cell_type": "markdown",
   "id": "78e1e753",
   "metadata": {},
   "source": [
    "#  Load Holiday data "
   ]
  },
  {
   "cell_type": "code",
   "execution_count": 24,
   "id": "0a31fcd8",
   "metadata": {},
   "outputs": [
    {
     "name": "stdout",
     "output_type": "stream",
     "text": [
      "         date  is_holiday   holiday_name  is_weekend\n",
      "0  2017-01-01           0  Not a Holiday           1\n",
      "1  2017-01-02           0  Not a Holiday           0\n",
      "2  2017-01-03           0  Not a Holiday           0\n",
      "3  2017-01-04           0  Not a Holiday           0\n",
      "4  2017-01-05           0  Not a Holiday           0\n",
      "5  2017-01-06           0  Not a Holiday           0\n",
      "6  2017-01-07           0  Not a Holiday           1\n",
      "7  2017-01-08           0  Not a Holiday           1\n",
      "8  2017-01-09           0  Not a Holiday           0\n",
      "9  2017-01-10           0  Not a Holiday           0\n",
      "10 2017-01-11           0  Not a Holiday           0\n",
      "11 2017-01-12           0  Not a Holiday           0\n",
      "12 2017-01-13           0  Not a Holiday           0\n",
      "13 2017-01-14           0  Not a Holiday           1\n",
      "14 2017-01-15           0  Not a Holiday           1\n",
      "15 2017-01-16           0  Not a Holiday           0\n",
      "16 2017-01-17           0  Not a Holiday           0\n",
      "17 2017-01-18           0  Not a Holiday           0\n",
      "18 2017-01-19           0  Not a Holiday           0\n",
      "19 2017-01-20           0  Not a Holiday           0\n",
      "20 2017-01-21           0  Not a Holiday           1\n",
      "21 2017-01-22           0  Not a Holiday           1\n",
      "22 2017-01-23           0  Not a Holiday           0\n",
      "23 2017-01-24           0  Not a Holiday           0\n",
      "24 2017-01-25           0  Not a Holiday           0\n",
      "25 2017-01-26           1   Republic Day           0\n",
      "26 2017-01-27           0  Not a Holiday           0\n",
      "27 2017-01-28           0  Not a Holiday           1\n",
      "28 2017-01-29           0  Not a Holiday           1\n",
      "29 2017-01-30           0  Not a Holiday           0\n"
     ]
    },
    {
     "name": "stderr",
     "output_type": "stream",
     "text": [
      "C:\\Users\\ASUS\\AppData\\Local\\Temp\\ipykernel_28744\\3679648383.py:16: FutureWarning: The behavior of 'isin' with dtype=datetime64[ns] and castable values (e.g. strings) is deprecated. In a future version, these will not be considered matching by isin. Explicitly cast to the appropriate dtype before calling isin instead.\n",
      "  calendar_df[\"is_holiday\"] = calendar_df[\"date\"].isin(ind_holidays).astype(int)\n"
     ]
    }
   ],
   "source": [
    "import pandas as pd\n",
    "import holidays\n",
    "\n",
    "# Generate all dates for 2017\n",
    "dates = pd.date_range(start=\"2017-01-01\", end=\"2017-12-31\", freq=\"D\")\n",
    "\n",
    "# Get Indian holidays\n",
    "#ind_holidays = holidays.India(years=[2017])\n",
    "ind_holidays = holidays.India(years=[2017], prov=\"JH\")\n",
    "# Build DataFrame\n",
    "calendar_df = pd.DataFrame({\n",
    "    \"date\": dates,\n",
    "})\n",
    "\n",
    "# Mark holidays\n",
    "calendar_df[\"is_holiday\"] = calendar_df[\"date\"].isin(ind_holidays).astype(int)\n",
    "calendar_df[\"holiday_name\"] = calendar_df[\"date\"].map(ind_holidays).fillna(\"Not a Holiday\")\n",
    "\n",
    "# Mark weekends\n",
    "calendar_df[\"is_weekend\"] = (calendar_df[\"date\"].dt.dayofweek >= 5).astype(int)\n",
    "\n",
    "print(calendar_df.head(30))"
   ]
  },
  {
   "cell_type": "code",
   "execution_count": 25,
   "id": "f77eb74c",
   "metadata": {},
   "outputs": [
    {
     "name": "stdout",
     "output_type": "stream",
     "text": [
      "          date  is_holiday   holiday_name  is_weekend\n",
      "0   2017-01-01           0  Not a Holiday           1\n",
      "1   2017-01-02           0  Not a Holiday           0\n",
      "2   2017-01-03           0  Not a Holiday           0\n",
      "3   2017-01-04           0  Not a Holiday           0\n",
      "4   2017-01-05           0  Not a Holiday           0\n",
      "..         ...         ...            ...         ...\n",
      "360 2017-12-27           0  Not a Holiday           0\n",
      "361 2017-12-28           0  Not a Holiday           0\n",
      "362 2017-12-29           0  Not a Holiday           0\n",
      "363 2017-12-30           0  Not a Holiday           1\n",
      "364 2017-12-31           0  Not a Holiday           1\n",
      "\n",
      "[365 rows x 4 columns]\n"
     ]
    }
   ],
   "source": [
    "print(calendar_df)"
   ]
  },
  {
   "cell_type": "markdown",
   "id": "c40cc5ba",
   "metadata": {},
   "source": [
    "## Analysing holiday data"
   ]
  },
  {
   "cell_type": "code",
   "execution_count": 26,
   "id": "208628aa",
   "metadata": {},
   "outputs": [],
   "source": [
    "actual_holidays = calendar_df[calendar_df['holiday_name'] != 'Not a Holiday']"
   ]
  },
  {
   "cell_type": "code",
   "execution_count": 27,
   "id": "71ef6fcb",
   "metadata": {},
   "outputs": [
    {
     "data": {
      "text/html": [
       "<div>\n",
       "<style scoped>\n",
       "    .dataframe tbody tr th:only-of-type {\n",
       "        vertical-align: middle;\n",
       "    }\n",
       "\n",
       "    .dataframe tbody tr th {\n",
       "        vertical-align: top;\n",
       "    }\n",
       "\n",
       "    .dataframe thead th {\n",
       "        text-align: right;\n",
       "    }\n",
       "</style>\n",
       "<table border=\"1\" class=\"dataframe\">\n",
       "  <thead>\n",
       "    <tr style=\"text-align: right;\">\n",
       "      <th></th>\n",
       "      <th>date</th>\n",
       "      <th>is_holiday</th>\n",
       "      <th>holiday_name</th>\n",
       "      <th>is_weekend</th>\n",
       "    </tr>\n",
       "  </thead>\n",
       "  <tbody>\n",
       "    <tr>\n",
       "      <th>25</th>\n",
       "      <td>2017-01-26</td>\n",
       "      <td>1</td>\n",
       "      <td>Republic Day</td>\n",
       "      <td>0</td>\n",
       "    </tr>\n",
       "    <tr>\n",
       "      <th>54</th>\n",
       "      <td>2017-02-24</td>\n",
       "      <td>1</td>\n",
       "      <td>Maha Shivaratri</td>\n",
       "      <td>0</td>\n",
       "    </tr>\n",
       "    <tr>\n",
       "      <th>98</th>\n",
       "      <td>2017-04-09</td>\n",
       "      <td>1</td>\n",
       "      <td>Mahavir Jayanti</td>\n",
       "      <td>1</td>\n",
       "    </tr>\n",
       "    <tr>\n",
       "      <th>103</th>\n",
       "      <td>2017-04-14</td>\n",
       "      <td>1</td>\n",
       "      <td>Dr. B. R. Ambedkar's Jayanti; Good Friday</td>\n",
       "      <td>0</td>\n",
       "    </tr>\n",
       "    <tr>\n",
       "      <th>129</th>\n",
       "      <td>2017-05-10</td>\n",
       "      <td>1</td>\n",
       "      <td>Buddha Purnima</td>\n",
       "      <td>0</td>\n",
       "    </tr>\n",
       "    <tr>\n",
       "      <th>176</th>\n",
       "      <td>2017-06-26</td>\n",
       "      <td>1</td>\n",
       "      <td>Id-ul-Fitr</td>\n",
       "      <td>0</td>\n",
       "    </tr>\n",
       "    <tr>\n",
       "      <th>226</th>\n",
       "      <td>2017-08-15</td>\n",
       "      <td>1</td>\n",
       "      <td>Independence Day; Janmashtami</td>\n",
       "      <td>0</td>\n",
       "    </tr>\n",
       "    <tr>\n",
       "      <th>244</th>\n",
       "      <td>2017-09-02</td>\n",
       "      <td>1</td>\n",
       "      <td>Bakrid</td>\n",
       "      <td>1</td>\n",
       "    </tr>\n",
       "    <tr>\n",
       "      <th>272</th>\n",
       "      <td>2017-09-30</td>\n",
       "      <td>1</td>\n",
       "      <td>Dussehra</td>\n",
       "      <td>1</td>\n",
       "    </tr>\n",
       "    <tr>\n",
       "      <th>273</th>\n",
       "      <td>2017-10-01</td>\n",
       "      <td>1</td>\n",
       "      <td>Muharram</td>\n",
       "      <td>1</td>\n",
       "    </tr>\n",
       "    <tr>\n",
       "      <th>274</th>\n",
       "      <td>2017-10-02</td>\n",
       "      <td>1</td>\n",
       "      <td>Gandhi Jayanti</td>\n",
       "      <td>0</td>\n",
       "    </tr>\n",
       "    <tr>\n",
       "      <th>291</th>\n",
       "      <td>2017-10-19</td>\n",
       "      <td>1</td>\n",
       "      <td>Diwali</td>\n",
       "      <td>0</td>\n",
       "    </tr>\n",
       "    <tr>\n",
       "      <th>298</th>\n",
       "      <td>2017-10-26</td>\n",
       "      <td>1</td>\n",
       "      <td>Chhath Puja</td>\n",
       "      <td>0</td>\n",
       "    </tr>\n",
       "    <tr>\n",
       "      <th>307</th>\n",
       "      <td>2017-11-04</td>\n",
       "      <td>1</td>\n",
       "      <td>Guru Nanak Jayanti</td>\n",
       "      <td>1</td>\n",
       "    </tr>\n",
       "    <tr>\n",
       "      <th>318</th>\n",
       "      <td>2017-11-15</td>\n",
       "      <td>1</td>\n",
       "      <td>Jharkhand Formation Day</td>\n",
       "      <td>0</td>\n",
       "    </tr>\n",
       "    <tr>\n",
       "      <th>335</th>\n",
       "      <td>2017-12-02</td>\n",
       "      <td>1</td>\n",
       "      <td>Milad-un-Nabi</td>\n",
       "      <td>1</td>\n",
       "    </tr>\n",
       "    <tr>\n",
       "      <th>358</th>\n",
       "      <td>2017-12-25</td>\n",
       "      <td>1</td>\n",
       "      <td>Christmas</td>\n",
       "      <td>0</td>\n",
       "    </tr>\n",
       "  </tbody>\n",
       "</table>\n",
       "</div>"
      ],
      "text/plain": [
       "          date  is_holiday                               holiday_name  \\\n",
       "25  2017-01-26           1                               Republic Day   \n",
       "54  2017-02-24           1                            Maha Shivaratri   \n",
       "98  2017-04-09           1                            Mahavir Jayanti   \n",
       "103 2017-04-14           1  Dr. B. R. Ambedkar's Jayanti; Good Friday   \n",
       "129 2017-05-10           1                             Buddha Purnima   \n",
       "176 2017-06-26           1                                 Id-ul-Fitr   \n",
       "226 2017-08-15           1              Independence Day; Janmashtami   \n",
       "244 2017-09-02           1                                     Bakrid   \n",
       "272 2017-09-30           1                                   Dussehra   \n",
       "273 2017-10-01           1                                   Muharram   \n",
       "274 2017-10-02           1                             Gandhi Jayanti   \n",
       "291 2017-10-19           1                                     Diwali   \n",
       "298 2017-10-26           1                                Chhath Puja   \n",
       "307 2017-11-04           1                         Guru Nanak Jayanti   \n",
       "318 2017-11-15           1                    Jharkhand Formation Day   \n",
       "335 2017-12-02           1                              Milad-un-Nabi   \n",
       "358 2017-12-25           1                                  Christmas   \n",
       "\n",
       "     is_weekend  \n",
       "25            0  \n",
       "54            0  \n",
       "98            1  \n",
       "103           0  \n",
       "129           0  \n",
       "176           0  \n",
       "226           0  \n",
       "244           1  \n",
       "272           1  \n",
       "273           1  \n",
       "274           0  \n",
       "291           0  \n",
       "298           0  \n",
       "307           1  \n",
       "318           0  \n",
       "335           1  \n",
       "358           0  "
      ]
     },
     "execution_count": 27,
     "metadata": {},
     "output_type": "execute_result"
    }
   ],
   "source": [
    "actual_holidays"
   ]
  },
  {
   "cell_type": "code",
   "execution_count": 28,
   "id": "c7eef7c7",
   "metadata": {
    "scrolled": true
   },
   "outputs": [
    {
     "name": "stdout",
     "output_type": "stream",
     "text": [
      "{datetime.date(2017, 1, 26): 'Republic Day', datetime.date(2017, 8, 15): 'Independence Day; Janmashtami', datetime.date(2017, 10, 2): 'Gandhi Jayanti', datetime.date(2017, 5, 10): 'Buddha Purnima', datetime.date(2017, 10, 19): 'Diwali', datetime.date(2017, 9, 30): 'Dussehra', datetime.date(2017, 4, 9): 'Mahavir Jayanti', datetime.date(2017, 2, 24): 'Maha Shivaratri', datetime.date(2017, 11, 4): 'Guru Nanak Jayanti', datetime.date(2017, 10, 1): 'Muharram', datetime.date(2017, 12, 2): 'Milad-un-Nabi', datetime.date(2017, 6, 26): 'Id-ul-Fitr', datetime.date(2017, 9, 2): 'Bakrid', datetime.date(2017, 4, 14): \"Dr. B. R. Ambedkar's Jayanti; Good Friday\", datetime.date(2017, 12, 25): 'Christmas', datetime.date(2017, 10, 26): 'Chhath Puja', datetime.date(2017, 11, 15): 'Jharkhand Formation Day'}\n"
     ]
    }
   ],
   "source": [
    "print(ind_holidays)"
   ]
  },
  {
   "cell_type": "code",
   "execution_count": 29,
   "id": "f96600d4",
   "metadata": {},
   "outputs": [
    {
     "data": {
      "text/plain": [
       "<bound method Series.unique of 0      Not a Holiday\n",
       "1      Not a Holiday\n",
       "2      Not a Holiday\n",
       "3      Not a Holiday\n",
       "4      Not a Holiday\n",
       "           ...      \n",
       "360    Not a Holiday\n",
       "361    Not a Holiday\n",
       "362    Not a Holiday\n",
       "363    Not a Holiday\n",
       "364    Not a Holiday\n",
       "Name: holiday_name, Length: 365, dtype: object>"
      ]
     },
     "execution_count": 29,
     "metadata": {},
     "output_type": "execute_result"
    }
   ],
   "source": [
    "calendar_df['holiday_name'].unique"
   ]
  },
  {
   "cell_type": "markdown",
   "id": "4dc19994",
   "metadata": {},
   "source": [
    "### Inspect holiday data"
   ]
  },
  {
   "cell_type": "code",
   "execution_count": 30,
   "id": "f1afd6a5",
   "metadata": {},
   "outputs": [
    {
     "name": "stdout",
     "output_type": "stream",
     "text": [
      "Index(['date', 'is_holiday', 'holiday_name', 'is_weekend'], dtype='object')\n"
     ]
    }
   ],
   "source": [
    "print(calendar_df.columns)"
   ]
  },
  {
   "cell_type": "code",
   "execution_count": 31,
   "id": "21d8bfcd",
   "metadata": {},
   "outputs": [
    {
     "name": "stdout",
     "output_type": "stream",
     "text": [
      "<class 'pandas.core.frame.DataFrame'>\n",
      "RangeIndex: 365 entries, 0 to 364\n",
      "Data columns (total 4 columns):\n",
      " #   Column        Non-Null Count  Dtype         \n",
      "---  ------        --------------  -----         \n",
      " 0   date          365 non-null    datetime64[ns]\n",
      " 1   is_holiday    365 non-null    int32         \n",
      " 2   holiday_name  365 non-null    object        \n",
      " 3   is_weekend    365 non-null    int32         \n",
      "dtypes: datetime64[ns](1), int32(2), object(1)\n",
      "memory usage: 8.7+ KB\n",
      "None\n"
     ]
    }
   ],
   "source": [
    "print(calendar_df.info())"
   ]
  },
  {
   "cell_type": "code",
   "execution_count": 32,
   "id": "051e9a67",
   "metadata": {},
   "outputs": [
    {
     "name": "stdout",
     "output_type": "stream",
     "text": [
      "                      date  is_holiday  is_weekend\n",
      "count                  365  365.000000  365.000000\n",
      "mean   2017-07-02 00:00:00    0.046575    0.287671\n",
      "min    2017-01-01 00:00:00    0.000000    0.000000\n",
      "25%    2017-04-02 00:00:00    0.000000    0.000000\n",
      "50%    2017-07-02 00:00:00    0.000000    0.000000\n",
      "75%    2017-10-01 00:00:00    0.000000    1.000000\n",
      "max    2017-12-31 00:00:00    1.000000    1.000000\n",
      "std                    NaN    0.211017    0.453298\n"
     ]
    }
   ],
   "source": [
    "print(calendar_df.describe())"
   ]
  },
  {
   "cell_type": "markdown",
   "id": "b0ba70eb",
   "metadata": {},
   "source": [
    "### Checking Null values in holiday data"
   ]
  },
  {
   "cell_type": "code",
   "execution_count": 33,
   "id": "995c6b01",
   "metadata": {},
   "outputs": [
    {
     "name": "stdout",
     "output_type": "stream",
     "text": [
      "      date  is_holiday  holiday_name  is_weekend\n",
      "0    False       False         False       False\n",
      "1    False       False         False       False\n",
      "2    False       False         False       False\n",
      "3    False       False         False       False\n",
      "4    False       False         False       False\n",
      "..     ...         ...           ...         ...\n",
      "360  False       False         False       False\n",
      "361  False       False         False       False\n",
      "362  False       False         False       False\n",
      "363  False       False         False       False\n",
      "364  False       False         False       False\n",
      "\n",
      "[365 rows x 4 columns]\n"
     ]
    }
   ],
   "source": [
    "print(calendar_df.isnull())"
   ]
  },
  {
   "cell_type": "markdown",
   "id": "c7bb53c5",
   "metadata": {},
   "source": [
    "### Analysing Dublicate values in holiday data"
   ]
  },
  {
   "cell_type": "code",
   "execution_count": 34,
   "id": "53a9c960",
   "metadata": {},
   "outputs": [
    {
     "name": "stdout",
     "output_type": "stream",
     "text": [
      "Empty DataFrame\n",
      "Columns: [date, is_holiday, holiday_name, is_weekend]\n",
      "Index: []\n"
     ]
    }
   ],
   "source": [
    "#Show all duplicate rows\n",
    "\n",
    "duplicate_rows_in_holiday_data = calendar_df[calendar_df.duplicated()]\n",
    "print(duplicate_rows_in_holiday_data)"
   ]
  },
  {
   "cell_type": "code",
   "execution_count": 35,
   "id": "7051994e",
   "metadata": {},
   "outputs": [
    {
     "name": "stdout",
     "output_type": "stream",
     "text": [
      "(365, 4)\n"
     ]
    }
   ],
   "source": [
    "print(calendar_df.shape)"
   ]
  },
  {
   "cell_type": "markdown",
   "id": "399bc0c0",
   "metadata": {},
   "source": [
    "# Interpolate weather data\n",
    "\n",
    "### creating values at a new frequency based on existing data.\n",
    "### Goal: Make weather data match the same 10-minute interval so we can merge them."
   ]
  },
  {
   "cell_type": "code",
   "execution_count": 36,
   "id": "1ba2d0d8",
   "metadata": {},
   "outputs": [
    {
     "name": "stdout",
     "output_type": "stream",
     "text": [
      "             Datetime  temperature_2m  relative_humidity_2m  dewpoint_2m  \\\n",
      "0 2017-01-01 00:00:00            14.4                  93.0    13.300000   \n",
      "1 2017-01-01 00:10:00            14.3                  93.5    13.283333   \n",
      "2 2017-01-01 00:20:00            14.2                  94.0    13.266667   \n",
      "3 2017-01-01 00:30:00            14.1                  94.5    13.250000   \n",
      "4 2017-01-01 00:40:00            14.0                  95.0    13.233333   \n",
      "\n",
      "   surface_pressure  precipitation  windspeed_10m  \n",
      "0        987.100000            0.0            5.6  \n",
      "1        987.216667            0.0            5.4  \n",
      "2        987.333333            0.0            5.2  \n",
      "3        987.450000            0.0            5.0  \n",
      "4        987.566667            0.0            4.8  \n"
     ]
    },
    {
     "name": "stderr",
     "output_type": "stream",
     "text": [
      "C:\\Users\\ASUS\\AppData\\Local\\Temp\\ipykernel_28744\\1879191911.py:5: FutureWarning: 'T' is deprecated and will be removed in a future version, please use 'min' instead.\n",
      "  weather_10min = df_weather.resample('10T').interpolate(\"linear\") # .mean hatye h\n"
     ]
    }
   ],
   "source": [
    "# Set 'time' as index\n",
    "df_weather.set_index('time', inplace=True)\n",
    "\n",
    "# Resample to 10-minute intervals and take mean\n",
    "weather_10min = df_weather.resample('10T').interpolate(\"linear\") # .mean hatye h \n",
    "\n",
    "# Reset index to get 'Datetime' column\n",
    "weather_10min = weather_10min.rename_axis('Datetime').reset_index()\n",
    "\n",
    "print(weather_10min.head())\n"
   ]
  },
  {
   "cell_type": "code",
   "execution_count": 37,
   "id": "84664d42",
   "metadata": {},
   "outputs": [
    {
     "name": "stdout",
     "output_type": "stream",
     "text": [
      "                 Datetime  temperature_2m  relative_humidity_2m  dewpoint_2m  \\\n",
      "0     2017-01-01 00:00:00       14.400000             93.000000    13.300000   \n",
      "1     2017-01-01 00:10:00       14.300000             93.500000    13.283333   \n",
      "2     2017-01-01 00:20:00       14.200000             94.000000    13.266667   \n",
      "3     2017-01-01 00:30:00       14.100000             94.500000    13.250000   \n",
      "4     2017-01-01 00:40:00       14.000000             95.000000    13.233333   \n",
      "...                   ...             ...                   ...          ...   \n",
      "52550 2017-12-31 22:20:00       12.566667             89.666667    10.866667   \n",
      "52551 2017-12-31 22:30:00       12.500000             90.000000    10.850000   \n",
      "52552 2017-12-31 22:40:00       12.433333             90.333333    10.833333   \n",
      "52553 2017-12-31 22:50:00       12.366667             90.666667    10.816667   \n",
      "52554 2017-12-31 23:00:00       12.300000             91.000000    10.800000   \n",
      "\n",
      "       surface_pressure  precipitation  windspeed_10m  \n",
      "0            987.100000            0.0       5.600000  \n",
      "1            987.216667            0.0       5.400000  \n",
      "2            987.333333            0.0       5.200000  \n",
      "3            987.450000            0.0       5.000000  \n",
      "4            987.566667            0.0       4.800000  \n",
      "...                 ...            ...            ...  \n",
      "52550        983.800000            0.0       7.533333  \n",
      "52551        983.800000            0.0       7.550000  \n",
      "52552        983.800000            0.0       7.566667  \n",
      "52553        983.800000            0.0       7.583333  \n",
      "52554        983.800000            0.0       7.600000  \n",
      "\n",
      "[52555 rows x 7 columns]\n"
     ]
    }
   ],
   "source": [
    "print(weather_10min)"
   ]
  },
  {
   "cell_type": "markdown",
   "id": "257cb6b5",
   "metadata": {},
   "source": [
    "## Understanding the data structure\n",
    "### Check the number of rows and columns to understand the size and structure of the dataset"
   ]
  },
  {
   "cell_type": "code",
   "execution_count": 38,
   "id": "82d4ed87",
   "metadata": {},
   "outputs": [
    {
     "name": "stdout",
     "output_type": "stream",
     "text": [
      "(52416, 6)\n"
     ]
    }
   ],
   "source": [
    "# Utility data \n",
    "print(df.shape)   # (rows, columns)\n"
   ]
  },
  {
   "cell_type": "code",
   "execution_count": 39,
   "id": "b5b6db4e",
   "metadata": {},
   "outputs": [
    {
     "name": "stdout",
     "output_type": "stream",
     "text": [
      "(52555, 7)\n"
     ]
    }
   ],
   "source": [
    "#Weather data in minutes afte interpolate\n",
    "print(weather_10min.shape)  \n"
   ]
  },
  {
   "cell_type": "code",
   "execution_count": 40,
   "id": "e706a086",
   "metadata": {},
   "outputs": [
    {
     "name": "stdout",
     "output_type": "stream",
     "text": [
      "(8760, 6)\n"
     ]
    }
   ],
   "source": [
    "#Weather data before interpolate\n",
    "print(df_weather.shape) "
   ]
  },
  {
   "cell_type": "markdown",
   "id": "4b165e65",
   "metadata": {},
   "source": [
    "## Merge Data(Utility data and weather data)"
   ]
  },
  {
   "cell_type": "code",
   "execution_count": 41,
   "id": "27ca4c1c",
   "metadata": {},
   "outputs": [],
   "source": [
    "# New integration part\n",
    "df_merged = pd.merge(df, weather_10min, on=\"Datetime\", how=\"left\")"
   ]
  },
  {
   "cell_type": "code",
   "execution_count": 42,
   "id": "82aac666",
   "metadata": {},
   "outputs": [
    {
     "name": "stdout",
     "output_type": "stream",
     "text": [
      "                 Datetime  Temperature  Humidity  WindSpeed  \\\n",
      "0     2017-01-01 00:00:00        6.559      73.8      0.083   \n",
      "1     2017-01-01 00:10:00        6.414      74.5      0.083   \n",
      "2     2017-01-01 00:20:00        6.313      74.5      0.080   \n",
      "3     2017-01-01 00:30:00        6.121      75.0      0.083   \n",
      "4     2017-01-01 00:40:00        5.921      75.7      0.081   \n",
      "...                   ...          ...       ...        ...   \n",
      "52411 2017-12-30 23:10:00        7.010      72.4      0.080   \n",
      "52412 2017-12-30 23:20:00        6.947      72.6      0.082   \n",
      "52413 2017-12-30 23:30:00        6.900      72.8      0.086   \n",
      "52414 2017-12-30 23:40:00        6.758      73.0      0.080   \n",
      "52415 2017-12-30 23:50:00        6.580      74.1      0.081   \n",
      "\n",
      "       F1_132KV_PowerConsumption  F2_132KV_PowerConsumption  \\\n",
      "0                    34055.69620                16128.87538   \n",
      "1                    29814.68354                19375.07599   \n",
      "2                    29128.10127                19006.68693   \n",
      "3                    28228.86076                18361.09422   \n",
      "4                    27335.69620                17872.34043   \n",
      "...                          ...                        ...   \n",
      "52411                31160.45627                26857.31820   \n",
      "52412                30430.41825                26124.57809   \n",
      "52413                29590.87452                25277.69254   \n",
      "52414                28958.17490                24692.23688   \n",
      "52415                28349.80989                24055.23167   \n",
      "\n",
      "       F3_132KV_PowerConsumption  temperature_2m  relative_humidity_2m  \\\n",
      "0                    20240.96386            14.4                  93.0   \n",
      "1                    20131.08434            14.3                  93.5   \n",
      "2                    19668.43373            14.2                  94.0   \n",
      "3                    18899.27711            14.1                  94.5   \n",
      "4                    18442.40964            14.0                  95.0   \n",
      "...                          ...             ...                   ...   \n",
      "52411                14780.31212            12.5                  86.0   \n",
      "52412                14428.81152            12.5                  86.0   \n",
      "52413                13806.48259            12.5                  86.0   \n",
      "52414                13512.60504            12.5                  86.0   \n",
      "52415                13345.49820            12.5                  86.0   \n",
      "\n",
      "       dewpoint_2m  surface_pressure  precipitation  windspeed_10m  \n",
      "0        13.300000        987.100000            0.0       5.600000  \n",
      "1        13.283333        987.216667            0.0       5.400000  \n",
      "2        13.266667        987.333333            0.0       5.200000  \n",
      "3        13.250000        987.450000            0.0       5.000000  \n",
      "4        13.233333        987.566667            0.0       4.800000  \n",
      "...            ...               ...            ...            ...  \n",
      "52411    10.216667        985.950000            0.0       8.383333  \n",
      "52412    10.233333        986.000000            0.0       8.766667  \n",
      "52413    10.250000        986.050000            0.0       9.150000  \n",
      "52414    10.266667        986.100000            0.0       9.533333  \n",
      "52415    10.283333        986.150000            0.0       9.916667  \n",
      "\n",
      "[52416 rows x 13 columns]\n"
     ]
    }
   ],
   "source": [
    "print(df_merged)"
   ]
  },
  {
   "cell_type": "markdown",
   "id": "f8bc06bb",
   "metadata": {},
   "source": [
    "### Cleaning data for better understanding and working"
   ]
  },
  {
   "cell_type": "code",
   "execution_count": 43,
   "id": "a7edca40",
   "metadata": {},
   "outputs": [],
   "source": [
    "df_cleaned = (\n",
    "    df_merged.drop([\"windspeed_10m\", \"temperature_2m\"], axis=1)   # drop columns\n",
    "             .rename(columns={                                   # rename columns\n",
    "                 \"relative_humidity_2m\": \"relative_humidity\",\n",
    "                 \"dewpoint_2m\": \"DewPoint\"\n",
    "             })\n",
    ")"
   ]
  },
  {
   "cell_type": "code",
   "execution_count": 44,
   "id": "947131e4",
   "metadata": {},
   "outputs": [
    {
     "name": "stdout",
     "output_type": "stream",
     "text": [
      "             Datetime  Temperature  Humidity  WindSpeed  \\\n",
      "0 2017-01-01 00:00:00        6.559      73.8      0.083   \n",
      "1 2017-01-01 00:10:00        6.414      74.5      0.083   \n",
      "2 2017-01-01 00:20:00        6.313      74.5      0.080   \n",
      "3 2017-01-01 00:30:00        6.121      75.0      0.083   \n",
      "4 2017-01-01 00:40:00        5.921      75.7      0.081   \n",
      "\n",
      "   F1_132KV_PowerConsumption  F2_132KV_PowerConsumption  \\\n",
      "0                34055.69620                16128.87538   \n",
      "1                29814.68354                19375.07599   \n",
      "2                29128.10127                19006.68693   \n",
      "3                28228.86076                18361.09422   \n",
      "4                27335.69620                17872.34043   \n",
      "\n",
      "   F3_132KV_PowerConsumption  relative_humidity   DewPoint  surface_pressure  \\\n",
      "0                20240.96386               93.0  13.300000        987.100000   \n",
      "1                20131.08434               93.5  13.283333        987.216667   \n",
      "2                19668.43373               94.0  13.266667        987.333333   \n",
      "3                18899.27711               94.5  13.250000        987.450000   \n",
      "4                18442.40964               95.0  13.233333        987.566667   \n",
      "\n",
      "   precipitation  \n",
      "0            0.0  \n",
      "1            0.0  \n",
      "2            0.0  \n",
      "3            0.0  \n",
      "4            0.0  \n"
     ]
    }
   ],
   "source": [
    "print(df_cleaned.head())"
   ]
  },
  {
   "cell_type": "code",
   "execution_count": 45,
   "id": "ae206ba6",
   "metadata": {},
   "outputs": [
    {
     "name": "stdout",
     "output_type": "stream",
     "text": [
      "                 Datetime  Temperature  Humidity  WindSpeed  \\\n",
      "0     2017-01-01 00:00:00        6.559      73.8      0.083   \n",
      "1     2017-01-01 00:10:00        6.414      74.5      0.083   \n",
      "2     2017-01-01 00:20:00        6.313      74.5      0.080   \n",
      "3     2017-01-01 00:30:00        6.121      75.0      0.083   \n",
      "4     2017-01-01 00:40:00        5.921      75.7      0.081   \n",
      "...                   ...          ...       ...        ...   \n",
      "52411 2017-12-30 23:10:00        7.010      72.4      0.080   \n",
      "52412 2017-12-30 23:20:00        6.947      72.6      0.082   \n",
      "52413 2017-12-30 23:30:00        6.900      72.8      0.086   \n",
      "52414 2017-12-30 23:40:00        6.758      73.0      0.080   \n",
      "52415 2017-12-30 23:50:00        6.580      74.1      0.081   \n",
      "\n",
      "       F1_132KV_PowerConsumption  F2_132KV_PowerConsumption  \\\n",
      "0                    34055.69620                16128.87538   \n",
      "1                    29814.68354                19375.07599   \n",
      "2                    29128.10127                19006.68693   \n",
      "3                    28228.86076                18361.09422   \n",
      "4                    27335.69620                17872.34043   \n",
      "...                          ...                        ...   \n",
      "52411                31160.45627                26857.31820   \n",
      "52412                30430.41825                26124.57809   \n",
      "52413                29590.87452                25277.69254   \n",
      "52414                28958.17490                24692.23688   \n",
      "52415                28349.80989                24055.23167   \n",
      "\n",
      "       F3_132KV_PowerConsumption  relative_humidity   DewPoint  \\\n",
      "0                    20240.96386               93.0  13.300000   \n",
      "1                    20131.08434               93.5  13.283333   \n",
      "2                    19668.43373               94.0  13.266667   \n",
      "3                    18899.27711               94.5  13.250000   \n",
      "4                    18442.40964               95.0  13.233333   \n",
      "...                          ...                ...        ...   \n",
      "52411                14780.31212               86.0  10.216667   \n",
      "52412                14428.81152               86.0  10.233333   \n",
      "52413                13806.48259               86.0  10.250000   \n",
      "52414                13512.60504               86.0  10.266667   \n",
      "52415                13345.49820               86.0  10.283333   \n",
      "\n",
      "       surface_pressure  precipitation  \n",
      "0            987.100000            0.0  \n",
      "1            987.216667            0.0  \n",
      "2            987.333333            0.0  \n",
      "3            987.450000            0.0  \n",
      "4            987.566667            0.0  \n",
      "...                 ...            ...  \n",
      "52411        985.950000            0.0  \n",
      "52412        986.000000            0.0  \n",
      "52413        986.050000            0.0  \n",
      "52414        986.100000            0.0  \n",
      "52415        986.150000            0.0  \n",
      "\n",
      "[52416 rows x 11 columns]\n"
     ]
    }
   ],
   "source": [
    "print(df_cleaned)"
   ]
  },
  {
   "cell_type": "markdown",
   "id": "f208a882",
   "metadata": {},
   "source": [
    "## Now merging holiday data to the Merged data(Utility + weather)"
   ]
  },
  {
   "cell_type": "code",
   "execution_count": 46,
   "id": "6bdc75dd",
   "metadata": {},
   "outputs": [
    {
     "name": "stdout",
     "output_type": "stream",
     "text": [
      "(52416, 15)\n",
      "             Datetime  Temperature  Humidity  WindSpeed  \\\n",
      "0 2017-01-01 00:00:00        6.559      73.8      0.083   \n",
      "1 2017-01-01 00:10:00        6.414      74.5      0.083   \n",
      "2 2017-01-01 00:20:00        6.313      74.5      0.080   \n",
      "3 2017-01-01 00:30:00        6.121      75.0      0.083   \n",
      "4 2017-01-01 00:40:00        5.921      75.7      0.081   \n",
      "\n",
      "   F1_132KV_PowerConsumption  F2_132KV_PowerConsumption  \\\n",
      "0                34055.69620                16128.87538   \n",
      "1                29814.68354                19375.07599   \n",
      "2                29128.10127                19006.68693   \n",
      "3                28228.86076                18361.09422   \n",
      "4                27335.69620                17872.34043   \n",
      "\n",
      "   F3_132KV_PowerConsumption  relative_humidity   DewPoint  surface_pressure  \\\n",
      "0                20240.96386               93.0  13.300000        987.100000   \n",
      "1                20131.08434               93.5  13.283333        987.216667   \n",
      "2                19668.43373               94.0  13.266667        987.333333   \n",
      "3                18899.27711               94.5  13.250000        987.450000   \n",
      "4                18442.40964               95.0  13.233333        987.566667   \n",
      "\n",
      "   precipitation       date  is_holiday   holiday_name  is_weekend  \n",
      "0            0.0 2017-01-01           0  Not a Holiday           1  \n",
      "1            0.0 2017-01-01           0  Not a Holiday           1  \n",
      "2            0.0 2017-01-01           0  Not a Holiday           1  \n",
      "3            0.0 2017-01-01           0  Not a Holiday           1  \n",
      "4            0.0 2017-01-01           0  Not a Holiday           1  \n"
     ]
    }
   ],
   "source": [
    "import pandas as pd\n",
    "\n",
    "# 1. Ensure holiday 'date' column is datetime\n",
    "calendar_df['date'] = pd.to_datetime(calendar_df['date'])\n",
    "\n",
    "# 2. Extract date part from the cleaned dataset\n",
    "df_cleaned['date'] = pd.to_datetime(df_cleaned['Datetime']).dt.date\n",
    "df_cleaned['date'] = pd.to_datetime(df_cleaned['date'])  # keep it as datetime64 for merge\n",
    "\n",
    "# 3. Merge holiday data into cleaned dataset\n",
    "df_merged_maindata = df_cleaned.merge(calendar_df, on='date', how='left')\n",
    "\n",
    "# 4. Check result\n",
    "print(df_merged_maindata .shape)   # should still be 52416 rows, but with +3 extra columns\n",
    "print(df_merged_maindata .head())\n"
   ]
  },
  {
   "cell_type": "markdown",
   "id": "153ccfd9",
   "metadata": {},
   "source": [
    "### Analysing the merged data "
   ]
  },
  {
   "cell_type": "code",
   "execution_count": 47,
   "id": "992f0fc7",
   "metadata": {},
   "outputs": [],
   "source": [
    "df_day = df_merged_maindata [df_merged_maindata ['date'] == '2017-01-26']"
   ]
  },
  {
   "cell_type": "code",
   "execution_count": 48,
   "id": "396e0085",
   "metadata": {},
   "outputs": [
    {
     "data": {
      "text/html": [
       "<div>\n",
       "<style scoped>\n",
       "    .dataframe tbody tr th:only-of-type {\n",
       "        vertical-align: middle;\n",
       "    }\n",
       "\n",
       "    .dataframe tbody tr th {\n",
       "        vertical-align: top;\n",
       "    }\n",
       "\n",
       "    .dataframe thead th {\n",
       "        text-align: right;\n",
       "    }\n",
       "</style>\n",
       "<table border=\"1\" class=\"dataframe\">\n",
       "  <thead>\n",
       "    <tr style=\"text-align: right;\">\n",
       "      <th></th>\n",
       "      <th>Datetime</th>\n",
       "      <th>Temperature</th>\n",
       "      <th>Humidity</th>\n",
       "      <th>WindSpeed</th>\n",
       "      <th>F1_132KV_PowerConsumption</th>\n",
       "      <th>F2_132KV_PowerConsumption</th>\n",
       "      <th>F3_132KV_PowerConsumption</th>\n",
       "      <th>relative_humidity</th>\n",
       "      <th>DewPoint</th>\n",
       "      <th>surface_pressure</th>\n",
       "      <th>precipitation</th>\n",
       "      <th>date</th>\n",
       "      <th>is_holiday</th>\n",
       "      <th>holiday_name</th>\n",
       "      <th>is_weekend</th>\n",
       "    </tr>\n",
       "  </thead>\n",
       "  <tbody>\n",
       "    <tr>\n",
       "      <th>3600</th>\n",
       "      <td>2017-01-26 00:00:00</td>\n",
       "      <td>8.72</td>\n",
       "      <td>73.5</td>\n",
       "      <td>0.084</td>\n",
       "      <td>29942.27848</td>\n",
       "      <td>19360.48632</td>\n",
       "      <td>18482.89157</td>\n",
       "      <td>93.000000</td>\n",
       "      <td>11.800000</td>\n",
       "      <td>989.100000</td>\n",
       "      <td>0.0</td>\n",
       "      <td>2017-01-26</td>\n",
       "      <td>1</td>\n",
       "      <td>Republic Day</td>\n",
       "      <td>0</td>\n",
       "    </tr>\n",
       "    <tr>\n",
       "      <th>3601</th>\n",
       "      <td>2017-01-26 00:10:00</td>\n",
       "      <td>8.63</td>\n",
       "      <td>76.3</td>\n",
       "      <td>0.087</td>\n",
       "      <td>29134.17722</td>\n",
       "      <td>18813.37386</td>\n",
       "      <td>18066.50602</td>\n",
       "      <td>93.166667</td>\n",
       "      <td>11.716667</td>\n",
       "      <td>989.200000</td>\n",
       "      <td>0.0</td>\n",
       "      <td>2017-01-26</td>\n",
       "      <td>1</td>\n",
       "      <td>Republic Day</td>\n",
       "      <td>0</td>\n",
       "    </tr>\n",
       "    <tr>\n",
       "      <th>3602</th>\n",
       "      <td>2017-01-26 00:20:00</td>\n",
       "      <td>8.49</td>\n",
       "      <td>76.9</td>\n",
       "      <td>0.083</td>\n",
       "      <td>28362.53165</td>\n",
       "      <td>18320.97264</td>\n",
       "      <td>17447.71084</td>\n",
       "      <td>93.333333</td>\n",
       "      <td>11.633333</td>\n",
       "      <td>989.300000</td>\n",
       "      <td>0.0</td>\n",
       "      <td>2017-01-26</td>\n",
       "      <td>1</td>\n",
       "      <td>Republic Day</td>\n",
       "      <td>0</td>\n",
       "    </tr>\n",
       "    <tr>\n",
       "      <th>3603</th>\n",
       "      <td>2017-01-26 00:30:00</td>\n",
       "      <td>8.28</td>\n",
       "      <td>77.3</td>\n",
       "      <td>0.085</td>\n",
       "      <td>27700.25316</td>\n",
       "      <td>17879.63526</td>\n",
       "      <td>17181.68675</td>\n",
       "      <td>93.500000</td>\n",
       "      <td>11.550000</td>\n",
       "      <td>989.400000</td>\n",
       "      <td>0.0</td>\n",
       "      <td>2017-01-26</td>\n",
       "      <td>1</td>\n",
       "      <td>Republic Day</td>\n",
       "      <td>0</td>\n",
       "    </tr>\n",
       "    <tr>\n",
       "      <th>3604</th>\n",
       "      <td>2017-01-26 00:40:00</td>\n",
       "      <td>8.30</td>\n",
       "      <td>78.6</td>\n",
       "      <td>0.087</td>\n",
       "      <td>26782.78481</td>\n",
       "      <td>17482.06687</td>\n",
       "      <td>16886.74699</td>\n",
       "      <td>93.666667</td>\n",
       "      <td>11.466667</td>\n",
       "      <td>989.500000</td>\n",
       "      <td>0.0</td>\n",
       "      <td>2017-01-26</td>\n",
       "      <td>1</td>\n",
       "      <td>Republic Day</td>\n",
       "      <td>0</td>\n",
       "    </tr>\n",
       "    <tr>\n",
       "      <th>...</th>\n",
       "      <td>...</td>\n",
       "      <td>...</td>\n",
       "      <td>...</td>\n",
       "      <td>...</td>\n",
       "      <td>...</td>\n",
       "      <td>...</td>\n",
       "      <td>...</td>\n",
       "      <td>...</td>\n",
       "      <td>...</td>\n",
       "      <td>...</td>\n",
       "      <td>...</td>\n",
       "      <td>...</td>\n",
       "      <td>...</td>\n",
       "      <td>...</td>\n",
       "      <td>...</td>\n",
       "    </tr>\n",
       "    <tr>\n",
       "      <th>3739</th>\n",
       "      <td>2017-01-26 23:10:00</td>\n",
       "      <td>10.58</td>\n",
       "      <td>82.1</td>\n",
       "      <td>0.083</td>\n",
       "      <td>35058.22785</td>\n",
       "      <td>22205.47112</td>\n",
       "      <td>21652.04819</td>\n",
       "      <td>74.000000</td>\n",
       "      <td>12.950000</td>\n",
       "      <td>985.366667</td>\n",
       "      <td>0.0</td>\n",
       "      <td>2017-01-26</td>\n",
       "      <td>1</td>\n",
       "      <td>Republic Day</td>\n",
       "      <td>0</td>\n",
       "    </tr>\n",
       "    <tr>\n",
       "      <th>3740</th>\n",
       "      <td>2017-01-26 23:20:00</td>\n",
       "      <td>10.53</td>\n",
       "      <td>81.8</td>\n",
       "      <td>0.086</td>\n",
       "      <td>34116.45570</td>\n",
       "      <td>21592.70517</td>\n",
       "      <td>21073.73494</td>\n",
       "      <td>76.000000</td>\n",
       "      <td>13.100000</td>\n",
       "      <td>985.533333</td>\n",
       "      <td>0.0</td>\n",
       "      <td>2017-01-26</td>\n",
       "      <td>1</td>\n",
       "      <td>Republic Day</td>\n",
       "      <td>0</td>\n",
       "    </tr>\n",
       "    <tr>\n",
       "      <th>3741</th>\n",
       "      <td>2017-01-26 23:30:00</td>\n",
       "      <td>10.52</td>\n",
       "      <td>81.9</td>\n",
       "      <td>0.089</td>\n",
       "      <td>33138.22785</td>\n",
       "      <td>20750.15198</td>\n",
       "      <td>20645.78313</td>\n",
       "      <td>78.000000</td>\n",
       "      <td>13.250000</td>\n",
       "      <td>985.700000</td>\n",
       "      <td>0.0</td>\n",
       "      <td>2017-01-26</td>\n",
       "      <td>1</td>\n",
       "      <td>Republic Day</td>\n",
       "      <td>0</td>\n",
       "    </tr>\n",
       "    <tr>\n",
       "      <th>3742</th>\n",
       "      <td>2017-01-26 23:40:00</td>\n",
       "      <td>10.06</td>\n",
       "      <td>83.3</td>\n",
       "      <td>0.086</td>\n",
       "      <td>32160.00000</td>\n",
       "      <td>20162.91793</td>\n",
       "      <td>19656.86747</td>\n",
       "      <td>80.000000</td>\n",
       "      <td>13.400000</td>\n",
       "      <td>985.866667</td>\n",
       "      <td>0.0</td>\n",
       "      <td>2017-01-26</td>\n",
       "      <td>1</td>\n",
       "      <td>Republic Day</td>\n",
       "      <td>0</td>\n",
       "    </tr>\n",
       "    <tr>\n",
       "      <th>3743</th>\n",
       "      <td>2017-01-26 23:50:00</td>\n",
       "      <td>9.81</td>\n",
       "      <td>84.1</td>\n",
       "      <td>0.084</td>\n",
       "      <td>31218.22785</td>\n",
       "      <td>19597.56839</td>\n",
       "      <td>18725.78313</td>\n",
       "      <td>82.000000</td>\n",
       "      <td>13.550000</td>\n",
       "      <td>986.033333</td>\n",
       "      <td>0.0</td>\n",
       "      <td>2017-01-26</td>\n",
       "      <td>1</td>\n",
       "      <td>Republic Day</td>\n",
       "      <td>0</td>\n",
       "    </tr>\n",
       "  </tbody>\n",
       "</table>\n",
       "<p>144 rows × 15 columns</p>\n",
       "</div>"
      ],
      "text/plain": [
       "                Datetime  Temperature  Humidity  WindSpeed  \\\n",
       "3600 2017-01-26 00:00:00         8.72      73.5      0.084   \n",
       "3601 2017-01-26 00:10:00         8.63      76.3      0.087   \n",
       "3602 2017-01-26 00:20:00         8.49      76.9      0.083   \n",
       "3603 2017-01-26 00:30:00         8.28      77.3      0.085   \n",
       "3604 2017-01-26 00:40:00         8.30      78.6      0.087   \n",
       "...                  ...          ...       ...        ...   \n",
       "3739 2017-01-26 23:10:00        10.58      82.1      0.083   \n",
       "3740 2017-01-26 23:20:00        10.53      81.8      0.086   \n",
       "3741 2017-01-26 23:30:00        10.52      81.9      0.089   \n",
       "3742 2017-01-26 23:40:00        10.06      83.3      0.086   \n",
       "3743 2017-01-26 23:50:00         9.81      84.1      0.084   \n",
       "\n",
       "      F1_132KV_PowerConsumption  F2_132KV_PowerConsumption  \\\n",
       "3600                29942.27848                19360.48632   \n",
       "3601                29134.17722                18813.37386   \n",
       "3602                28362.53165                18320.97264   \n",
       "3603                27700.25316                17879.63526   \n",
       "3604                26782.78481                17482.06687   \n",
       "...                         ...                        ...   \n",
       "3739                35058.22785                22205.47112   \n",
       "3740                34116.45570                21592.70517   \n",
       "3741                33138.22785                20750.15198   \n",
       "3742                32160.00000                20162.91793   \n",
       "3743                31218.22785                19597.56839   \n",
       "\n",
       "      F3_132KV_PowerConsumption  relative_humidity   DewPoint  \\\n",
       "3600                18482.89157          93.000000  11.800000   \n",
       "3601                18066.50602          93.166667  11.716667   \n",
       "3602                17447.71084          93.333333  11.633333   \n",
       "3603                17181.68675          93.500000  11.550000   \n",
       "3604                16886.74699          93.666667  11.466667   \n",
       "...                         ...                ...        ...   \n",
       "3739                21652.04819          74.000000  12.950000   \n",
       "3740                21073.73494          76.000000  13.100000   \n",
       "3741                20645.78313          78.000000  13.250000   \n",
       "3742                19656.86747          80.000000  13.400000   \n",
       "3743                18725.78313          82.000000  13.550000   \n",
       "\n",
       "      surface_pressure  precipitation       date  is_holiday  holiday_name  \\\n",
       "3600        989.100000            0.0 2017-01-26           1  Republic Day   \n",
       "3601        989.200000            0.0 2017-01-26           1  Republic Day   \n",
       "3602        989.300000            0.0 2017-01-26           1  Republic Day   \n",
       "3603        989.400000            0.0 2017-01-26           1  Republic Day   \n",
       "3604        989.500000            0.0 2017-01-26           1  Republic Day   \n",
       "...                ...            ...        ...         ...           ...   \n",
       "3739        985.366667            0.0 2017-01-26           1  Republic Day   \n",
       "3740        985.533333            0.0 2017-01-26           1  Republic Day   \n",
       "3741        985.700000            0.0 2017-01-26           1  Republic Day   \n",
       "3742        985.866667            0.0 2017-01-26           1  Republic Day   \n",
       "3743        986.033333            0.0 2017-01-26           1  Republic Day   \n",
       "\n",
       "      is_weekend  \n",
       "3600           0  \n",
       "3601           0  \n",
       "3602           0  \n",
       "3603           0  \n",
       "3604           0  \n",
       "...          ...  \n",
       "3739           0  \n",
       "3740           0  \n",
       "3741           0  \n",
       "3742           0  \n",
       "3743           0  \n",
       "\n",
       "[144 rows x 15 columns]"
      ]
     },
     "execution_count": 48,
     "metadata": {},
     "output_type": "execute_result"
    }
   ],
   "source": [
    "df_day"
   ]
  },
  {
   "cell_type": "code",
   "execution_count": 49,
   "id": "0206f977",
   "metadata": {},
   "outputs": [],
   "source": [
    "df_merged_maindata.drop(columns=['date'], inplace=True)"
   ]
  },
  {
   "cell_type": "code",
   "execution_count": 50,
   "id": "a46c5fad",
   "metadata": {},
   "outputs": [
    {
     "name": "stdout",
     "output_type": "stream",
     "text": [
      "Index(['Datetime', 'Temperature', 'Humidity', 'WindSpeed',\n",
      "       'F1_132KV_PowerConsumption', 'F2_132KV_PowerConsumption',\n",
      "       'F3_132KV_PowerConsumption', 'relative_humidity', 'DewPoint',\n",
      "       'surface_pressure', 'precipitation', 'is_holiday', 'holiday_name',\n",
      "       'is_weekend'],\n",
      "      dtype='object')\n"
     ]
    }
   ],
   "source": [
    "print(df_merged_maindata.columns)"
   ]
  },
  {
   "cell_type": "code",
   "execution_count": 51,
   "id": "5b398d2f",
   "metadata": {},
   "outputs": [
    {
     "name": "stdout",
     "output_type": "stream",
     "text": [
      "(52416, 14)\n"
     ]
    }
   ],
   "source": [
    "print(df_merged_maindata.shape)"
   ]
  },
  {
   "cell_type": "code",
   "execution_count": 52,
   "id": "4ffd176d",
   "metadata": {},
   "outputs": [
    {
     "name": "stdout",
     "output_type": "stream",
     "text": [
      "                 Datetime  Temperature  Humidity  WindSpeed  \\\n",
      "0     2017-01-01 00:00:00        6.559      73.8      0.083   \n",
      "1     2017-01-01 00:10:00        6.414      74.5      0.083   \n",
      "2     2017-01-01 00:20:00        6.313      74.5      0.080   \n",
      "3     2017-01-01 00:30:00        6.121      75.0      0.083   \n",
      "4     2017-01-01 00:40:00        5.921      75.7      0.081   \n",
      "...                   ...          ...       ...        ...   \n",
      "52411 2017-12-30 23:10:00        7.010      72.4      0.080   \n",
      "52412 2017-12-30 23:20:00        6.947      72.6      0.082   \n",
      "52413 2017-12-30 23:30:00        6.900      72.8      0.086   \n",
      "52414 2017-12-30 23:40:00        6.758      73.0      0.080   \n",
      "52415 2017-12-30 23:50:00        6.580      74.1      0.081   \n",
      "\n",
      "       F1_132KV_PowerConsumption  F2_132KV_PowerConsumption  \\\n",
      "0                    34055.69620                16128.87538   \n",
      "1                    29814.68354                19375.07599   \n",
      "2                    29128.10127                19006.68693   \n",
      "3                    28228.86076                18361.09422   \n",
      "4                    27335.69620                17872.34043   \n",
      "...                          ...                        ...   \n",
      "52411                31160.45627                26857.31820   \n",
      "52412                30430.41825                26124.57809   \n",
      "52413                29590.87452                25277.69254   \n",
      "52414                28958.17490                24692.23688   \n",
      "52415                28349.80989                24055.23167   \n",
      "\n",
      "       F3_132KV_PowerConsumption  relative_humidity   DewPoint  \\\n",
      "0                    20240.96386               93.0  13.300000   \n",
      "1                    20131.08434               93.5  13.283333   \n",
      "2                    19668.43373               94.0  13.266667   \n",
      "3                    18899.27711               94.5  13.250000   \n",
      "4                    18442.40964               95.0  13.233333   \n",
      "...                          ...                ...        ...   \n",
      "52411                14780.31212               86.0  10.216667   \n",
      "52412                14428.81152               86.0  10.233333   \n",
      "52413                13806.48259               86.0  10.250000   \n",
      "52414                13512.60504               86.0  10.266667   \n",
      "52415                13345.49820               86.0  10.283333   \n",
      "\n",
      "       surface_pressure  precipitation  is_holiday   holiday_name  is_weekend  \n",
      "0            987.100000            0.0           0  Not a Holiday           1  \n",
      "1            987.216667            0.0           0  Not a Holiday           1  \n",
      "2            987.333333            0.0           0  Not a Holiday           1  \n",
      "3            987.450000            0.0           0  Not a Holiday           1  \n",
      "4            987.566667            0.0           0  Not a Holiday           1  \n",
      "...                 ...            ...         ...            ...         ...  \n",
      "52411        985.950000            0.0           0  Not a Holiday           1  \n",
      "52412        986.000000            0.0           0  Not a Holiday           1  \n",
      "52413        986.050000            0.0           0  Not a Holiday           1  \n",
      "52414        986.100000            0.0           0  Not a Holiday           1  \n",
      "52415        986.150000            0.0           0  Not a Holiday           1  \n",
      "\n",
      "[52416 rows x 14 columns]\n"
     ]
    }
   ],
   "source": [
    "print(df_merged_maindata)"
   ]
  },
  {
   "cell_type": "markdown",
   "id": "08993dcc",
   "metadata": {},
   "source": [
    "# Downloading the merged data for modeling \n",
    "### Remove the comment to download the modeling_data "
   ]
  },
  {
   "cell_type": "code",
   "execution_count": 53,
   "id": "bbc11308",
   "metadata": {},
   "outputs": [],
   "source": [
    "# df_merged_maindata.to_csv(\"modeling_data.csv\", index=False)"
   ]
  },
  {
   "cell_type": "markdown",
   "id": "64431b0c",
   "metadata": {},
   "source": [
    "# Now modeling part begines "
   ]
  },
  {
   "cell_type": "code",
   "execution_count": 54,
   "id": "a04032a2",
   "metadata": {},
   "outputs": [],
   "source": [
    "import pandas as pd\n",
    "from prophet import Prophet\n",
    "import matplotlib.pyplot as plt\n",
    "from sklearn.metrics import mean_absolute_error, mean_squared_error\n",
    "import numpy as np\n",
    "df_mbm = pd.read_csv(\"C:/Users/ASUS/Downloads/Assignment-1, Intelligent-Power-Demand-Forecasting/modeling_data.csv\")\n"
   ]
  },
  {
   "cell_type": "code",
   "execution_count": 55,
   "id": "f9ba9b8d",
   "metadata": {},
   "outputs": [],
   "source": [
    "df_mbm['Datetime'] = pd.to_datetime(df_mbm['Datetime'], format='mixed',errors ='coerce')"
   ]
  },
  {
   "cell_type": "markdown",
   "id": "b3f31099",
   "metadata": {},
   "source": [
    "## Feature Engineering\n",
    "### Purpose: Create features that help forecasting.\n",
    "\n",
    "### Combine all power lines to get total electricity demand:"
   ]
  },
  {
   "cell_type": "code",
   "execution_count": 56,
   "id": "00df6241",
   "metadata": {},
   "outputs": [],
   "source": [
    "df_mbm['Electricity_Demand'] = df_mbm['F1_132KV_PowerConsumption']+df_mbm['F2_132KV_PowerConsumption']+df_mbm['F3_132KV_PowerConsumption'] \n"
   ]
  },
  {
   "cell_type": "markdown",
   "id": "cfbef607",
   "metadata": {},
   "source": [
    "### Rename columns for Prophet:"
   ]
  },
  {
   "cell_type": "code",
   "execution_count": 57,
   "id": "a5716150",
   "metadata": {},
   "outputs": [
    {
     "data": {
      "text/html": [
       "<div>\n",
       "<style scoped>\n",
       "    .dataframe tbody tr th:only-of-type {\n",
       "        vertical-align: middle;\n",
       "    }\n",
       "\n",
       "    .dataframe tbody tr th {\n",
       "        vertical-align: top;\n",
       "    }\n",
       "\n",
       "    .dataframe thead th {\n",
       "        text-align: right;\n",
       "    }\n",
       "</style>\n",
       "<table border=\"1\" class=\"dataframe\">\n",
       "  <thead>\n",
       "    <tr style=\"text-align: right;\">\n",
       "      <th></th>\n",
       "      <th>ds</th>\n",
       "      <th>Temperature</th>\n",
       "      <th>Humidity</th>\n",
       "      <th>WindSpeed</th>\n",
       "      <th>F1_132KV_PowerConsumption</th>\n",
       "      <th>F2_132KV_PowerConsumption</th>\n",
       "      <th>F3_132KV_PowerConsumption</th>\n",
       "      <th>relative_humidity</th>\n",
       "      <th>DewPoint</th>\n",
       "      <th>surface_pressure</th>\n",
       "      <th>precipitation</th>\n",
       "      <th>is_holiday</th>\n",
       "      <th>holiday_name</th>\n",
       "      <th>is_weekend</th>\n",
       "      <th>y</th>\n",
       "    </tr>\n",
       "  </thead>\n",
       "  <tbody>\n",
       "    <tr>\n",
       "      <th>0</th>\n",
       "      <td>2017-01-01 00:00:00</td>\n",
       "      <td>6.559</td>\n",
       "      <td>73.8</td>\n",
       "      <td>0.083</td>\n",
       "      <td>34055.69620</td>\n",
       "      <td>16128.87538</td>\n",
       "      <td>20240.96386</td>\n",
       "      <td>93.0</td>\n",
       "      <td>13.300000</td>\n",
       "      <td>987.100000</td>\n",
       "      <td>0.0</td>\n",
       "      <td>0</td>\n",
       "      <td>Not a Holiday</td>\n",
       "      <td>1</td>\n",
       "      <td>70425.53544</td>\n",
       "    </tr>\n",
       "    <tr>\n",
       "      <th>1</th>\n",
       "      <td>2017-01-01 00:10:00</td>\n",
       "      <td>6.414</td>\n",
       "      <td>74.5</td>\n",
       "      <td>0.083</td>\n",
       "      <td>29814.68354</td>\n",
       "      <td>19375.07599</td>\n",
       "      <td>20131.08434</td>\n",
       "      <td>93.5</td>\n",
       "      <td>13.283333</td>\n",
       "      <td>987.216667</td>\n",
       "      <td>0.0</td>\n",
       "      <td>0</td>\n",
       "      <td>Not a Holiday</td>\n",
       "      <td>1</td>\n",
       "      <td>69320.84387</td>\n",
       "    </tr>\n",
       "    <tr>\n",
       "      <th>2</th>\n",
       "      <td>2017-01-01 00:20:00</td>\n",
       "      <td>6.313</td>\n",
       "      <td>74.5</td>\n",
       "      <td>0.080</td>\n",
       "      <td>29128.10127</td>\n",
       "      <td>19006.68693</td>\n",
       "      <td>19668.43373</td>\n",
       "      <td>94.0</td>\n",
       "      <td>13.266667</td>\n",
       "      <td>987.333333</td>\n",
       "      <td>0.0</td>\n",
       "      <td>0</td>\n",
       "      <td>Not a Holiday</td>\n",
       "      <td>1</td>\n",
       "      <td>67803.22193</td>\n",
       "    </tr>\n",
       "    <tr>\n",
       "      <th>3</th>\n",
       "      <td>2017-01-01 00:30:00</td>\n",
       "      <td>6.121</td>\n",
       "      <td>75.0</td>\n",
       "      <td>0.083</td>\n",
       "      <td>28228.86076</td>\n",
       "      <td>18361.09422</td>\n",
       "      <td>18899.27711</td>\n",
       "      <td>94.5</td>\n",
       "      <td>13.250000</td>\n",
       "      <td>987.450000</td>\n",
       "      <td>0.0</td>\n",
       "      <td>0</td>\n",
       "      <td>Not a Holiday</td>\n",
       "      <td>1</td>\n",
       "      <td>65489.23209</td>\n",
       "    </tr>\n",
       "    <tr>\n",
       "      <th>4</th>\n",
       "      <td>2017-01-01 00:40:00</td>\n",
       "      <td>5.921</td>\n",
       "      <td>75.7</td>\n",
       "      <td>0.081</td>\n",
       "      <td>27335.69620</td>\n",
       "      <td>17872.34043</td>\n",
       "      <td>18442.40964</td>\n",
       "      <td>95.0</td>\n",
       "      <td>13.233333</td>\n",
       "      <td>987.566667</td>\n",
       "      <td>0.0</td>\n",
       "      <td>0</td>\n",
       "      <td>Not a Holiday</td>\n",
       "      <td>1</td>\n",
       "      <td>63650.44627</td>\n",
       "    </tr>\n",
       "    <tr>\n",
       "      <th>...</th>\n",
       "      <td>...</td>\n",
       "      <td>...</td>\n",
       "      <td>...</td>\n",
       "      <td>...</td>\n",
       "      <td>...</td>\n",
       "      <td>...</td>\n",
       "      <td>...</td>\n",
       "      <td>...</td>\n",
       "      <td>...</td>\n",
       "      <td>...</td>\n",
       "      <td>...</td>\n",
       "      <td>...</td>\n",
       "      <td>...</td>\n",
       "      <td>...</td>\n",
       "      <td>...</td>\n",
       "    </tr>\n",
       "    <tr>\n",
       "      <th>52411</th>\n",
       "      <td>2017-12-30 23:10:00</td>\n",
       "      <td>7.010</td>\n",
       "      <td>72.4</td>\n",
       "      <td>0.080</td>\n",
       "      <td>31160.45627</td>\n",
       "      <td>26857.31820</td>\n",
       "      <td>14780.31212</td>\n",
       "      <td>86.0</td>\n",
       "      <td>10.216667</td>\n",
       "      <td>985.950000</td>\n",
       "      <td>0.0</td>\n",
       "      <td>0</td>\n",
       "      <td>Not a Holiday</td>\n",
       "      <td>1</td>\n",
       "      <td>72798.08659</td>\n",
       "    </tr>\n",
       "    <tr>\n",
       "      <th>52412</th>\n",
       "      <td>2017-12-30 23:20:00</td>\n",
       "      <td>6.947</td>\n",
       "      <td>72.6</td>\n",
       "      <td>0.082</td>\n",
       "      <td>30430.41825</td>\n",
       "      <td>26124.57809</td>\n",
       "      <td>14428.81152</td>\n",
       "      <td>86.0</td>\n",
       "      <td>10.233333</td>\n",
       "      <td>986.000000</td>\n",
       "      <td>0.0</td>\n",
       "      <td>0</td>\n",
       "      <td>Not a Holiday</td>\n",
       "      <td>1</td>\n",
       "      <td>70983.80786</td>\n",
       "    </tr>\n",
       "    <tr>\n",
       "      <th>52413</th>\n",
       "      <td>2017-12-30 23:30:00</td>\n",
       "      <td>6.900</td>\n",
       "      <td>72.8</td>\n",
       "      <td>0.086</td>\n",
       "      <td>29590.87452</td>\n",
       "      <td>25277.69254</td>\n",
       "      <td>13806.48259</td>\n",
       "      <td>86.0</td>\n",
       "      <td>10.250000</td>\n",
       "      <td>986.050000</td>\n",
       "      <td>0.0</td>\n",
       "      <td>0</td>\n",
       "      <td>Not a Holiday</td>\n",
       "      <td>1</td>\n",
       "      <td>68675.04965</td>\n",
       "    </tr>\n",
       "    <tr>\n",
       "      <th>52414</th>\n",
       "      <td>2017-12-30 23:40:00</td>\n",
       "      <td>6.758</td>\n",
       "      <td>73.0</td>\n",
       "      <td>0.080</td>\n",
       "      <td>28958.17490</td>\n",
       "      <td>24692.23688</td>\n",
       "      <td>13512.60504</td>\n",
       "      <td>86.0</td>\n",
       "      <td>10.266667</td>\n",
       "      <td>986.100000</td>\n",
       "      <td>0.0</td>\n",
       "      <td>0</td>\n",
       "      <td>Not a Holiday</td>\n",
       "      <td>1</td>\n",
       "      <td>67163.01682</td>\n",
       "    </tr>\n",
       "    <tr>\n",
       "      <th>52415</th>\n",
       "      <td>2017-12-30 23:50:00</td>\n",
       "      <td>6.580</td>\n",
       "      <td>74.1</td>\n",
       "      <td>0.081</td>\n",
       "      <td>28349.80989</td>\n",
       "      <td>24055.23167</td>\n",
       "      <td>13345.49820</td>\n",
       "      <td>86.0</td>\n",
       "      <td>10.283333</td>\n",
       "      <td>986.150000</td>\n",
       "      <td>0.0</td>\n",
       "      <td>0</td>\n",
       "      <td>Not a Holiday</td>\n",
       "      <td>1</td>\n",
       "      <td>65750.53976</td>\n",
       "    </tr>\n",
       "  </tbody>\n",
       "</table>\n",
       "<p>52416 rows × 15 columns</p>\n",
       "</div>"
      ],
      "text/plain": [
       "                       ds  Temperature  Humidity  WindSpeed  \\\n",
       "0     2017-01-01 00:00:00        6.559      73.8      0.083   \n",
       "1     2017-01-01 00:10:00        6.414      74.5      0.083   \n",
       "2     2017-01-01 00:20:00        6.313      74.5      0.080   \n",
       "3     2017-01-01 00:30:00        6.121      75.0      0.083   \n",
       "4     2017-01-01 00:40:00        5.921      75.7      0.081   \n",
       "...                   ...          ...       ...        ...   \n",
       "52411 2017-12-30 23:10:00        7.010      72.4      0.080   \n",
       "52412 2017-12-30 23:20:00        6.947      72.6      0.082   \n",
       "52413 2017-12-30 23:30:00        6.900      72.8      0.086   \n",
       "52414 2017-12-30 23:40:00        6.758      73.0      0.080   \n",
       "52415 2017-12-30 23:50:00        6.580      74.1      0.081   \n",
       "\n",
       "       F1_132KV_PowerConsumption  F2_132KV_PowerConsumption  \\\n",
       "0                    34055.69620                16128.87538   \n",
       "1                    29814.68354                19375.07599   \n",
       "2                    29128.10127                19006.68693   \n",
       "3                    28228.86076                18361.09422   \n",
       "4                    27335.69620                17872.34043   \n",
       "...                          ...                        ...   \n",
       "52411                31160.45627                26857.31820   \n",
       "52412                30430.41825                26124.57809   \n",
       "52413                29590.87452                25277.69254   \n",
       "52414                28958.17490                24692.23688   \n",
       "52415                28349.80989                24055.23167   \n",
       "\n",
       "       F3_132KV_PowerConsumption  relative_humidity   DewPoint  \\\n",
       "0                    20240.96386               93.0  13.300000   \n",
       "1                    20131.08434               93.5  13.283333   \n",
       "2                    19668.43373               94.0  13.266667   \n",
       "3                    18899.27711               94.5  13.250000   \n",
       "4                    18442.40964               95.0  13.233333   \n",
       "...                          ...                ...        ...   \n",
       "52411                14780.31212               86.0  10.216667   \n",
       "52412                14428.81152               86.0  10.233333   \n",
       "52413                13806.48259               86.0  10.250000   \n",
       "52414                13512.60504               86.0  10.266667   \n",
       "52415                13345.49820               86.0  10.283333   \n",
       "\n",
       "       surface_pressure  precipitation  is_holiday   holiday_name  is_weekend  \\\n",
       "0            987.100000            0.0           0  Not a Holiday           1   \n",
       "1            987.216667            0.0           0  Not a Holiday           1   \n",
       "2            987.333333            0.0           0  Not a Holiday           1   \n",
       "3            987.450000            0.0           0  Not a Holiday           1   \n",
       "4            987.566667            0.0           0  Not a Holiday           1   \n",
       "...                 ...            ...         ...            ...         ...   \n",
       "52411        985.950000            0.0           0  Not a Holiday           1   \n",
       "52412        986.000000            0.0           0  Not a Holiday           1   \n",
       "52413        986.050000            0.0           0  Not a Holiday           1   \n",
       "52414        986.100000            0.0           0  Not a Holiday           1   \n",
       "52415        986.150000            0.0           0  Not a Holiday           1   \n",
       "\n",
       "                 y  \n",
       "0      70425.53544  \n",
       "1      69320.84387  \n",
       "2      67803.22193  \n",
       "3      65489.23209  \n",
       "4      63650.44627  \n",
       "...            ...  \n",
       "52411  72798.08659  \n",
       "52412  70983.80786  \n",
       "52413  68675.04965  \n",
       "52414  67163.01682  \n",
       "52415  65750.53976  \n",
       "\n",
       "[52416 rows x 15 columns]"
      ]
     },
     "execution_count": 57,
     "metadata": {},
     "output_type": "execute_result"
    }
   ],
   "source": [
    "df_mbm.rename(columns={'Datetime': 'ds', 'Electricity_Demand': 'y'}, inplace=True)\n",
    "df_mbm"
   ]
  },
  {
   "cell_type": "markdown",
   "id": "79c0100e",
   "metadata": {},
   "source": [
    "## Modeling Using Prophet\n",
    "### Train-Test Split"
   ]
  },
  {
   "cell_type": "code",
   "execution_count": 58,
   "id": "b688bc51",
   "metadata": {},
   "outputs": [
    {
     "name": "stdout",
     "output_type": "stream",
     "text": [
      "Training data: 2017-01-01 00:00:00 to 2017-10-31 23:50:00\n",
      "Testing data : 2017-11-01 00:00:00 to 2017-12-30 23:50:00\n"
     ]
    }
   ],
   "source": [
    "# Step 3: Train-test split (10 months train, 2 months test)\n",
    "train = df_mbm[df_mbm['ds'] < df_mbm['ds'].min() + pd.DateOffset(months=10)]\n",
    "test  = df_mbm[df_mbm['ds'] >= df_mbm['ds'].min() + pd.DateOffset(months=10)]\n",
    "\n",
    "print(\"Training data:\", train['ds'].min(), \"to\", train['ds'].max())\n",
    "print(\"Testing data :\", test['ds'].min(), \"to\", test['ds'].max())\n"
   ]
  },
  {
   "cell_type": "markdown",
   "id": "935268b9",
   "metadata": {},
   "source": [
    "### Initialize Prophet"
   ]
  },
  {
   "cell_type": "code",
   "execution_count": 59,
   "id": "5db7cebb",
   "metadata": {},
   "outputs": [],
   "source": [
    "# Step 4: Initialize Prophet Model with Regressors\n",
    "model = Prophet(changepoint_prior_scale=0.5, seasonality_prior_scale=10, holidays_prior_scale=10)\n",
    "#Add external regressors (weather data)\n",
    "regressors = ['Temperature', 'Humidity', 'WindSpeed', 'relative_humidity', \n",
    "              'DewPoint', 'surface_pressure', 'precipitation','is_holiday','is_weekend']\n",
    "\n",
    "for reg in regressors:\n",
    "    model.add_regressor(reg)"
   ]
  },
  {
   "cell_type": "code",
   "execution_count": 60,
   "id": "33fb7c03",
   "metadata": {},
   "outputs": [],
   "source": [
    "# Prepare training data with regressors\n",
    "train_prophet = train[['ds', 'y'] + regressors]\n",
    "test_prophet = test[['ds', 'y'] + regressors]"
   ]
  },
  {
   "cell_type": "markdown",
   "id": "cb3c2868",
   "metadata": {},
   "source": [
    "### Fit Model"
   ]
  },
  {
   "cell_type": "code",
   "execution_count": 61,
   "id": "e54fb53b",
   "metadata": {},
   "outputs": [
    {
     "name": "stderr",
     "output_type": "stream",
     "text": [
      "20:36:42 - cmdstanpy - INFO - Chain [1] start processing\n",
      "20:37:41 - cmdstanpy - INFO - Chain [1] done processing\n"
     ]
    },
    {
     "data": {
      "text/plain": [
       "<prophet.forecaster.Prophet at 0x1f49cf3de90>"
      ]
     },
     "execution_count": 61,
     "metadata": {},
     "output_type": "execute_result"
    }
   ],
   "source": [
    "model.fit(train_prophet)"
   ]
  },
  {
   "cell_type": "code",
   "execution_count": 62,
   "id": "e91118c8",
   "metadata": {},
   "outputs": [
    {
     "data": {
      "text/html": [
       "<div>\n",
       "<style scoped>\n",
       "    .dataframe tbody tr th:only-of-type {\n",
       "        vertical-align: middle;\n",
       "    }\n",
       "\n",
       "    .dataframe tbody tr th {\n",
       "        vertical-align: top;\n",
       "    }\n",
       "\n",
       "    .dataframe thead th {\n",
       "        text-align: right;\n",
       "    }\n",
       "</style>\n",
       "<table border=\"1\" class=\"dataframe\">\n",
       "  <thead>\n",
       "    <tr style=\"text-align: right;\">\n",
       "      <th></th>\n",
       "      <th>ds</th>\n",
       "      <th>y</th>\n",
       "      <th>Temperature</th>\n",
       "      <th>Humidity</th>\n",
       "      <th>WindSpeed</th>\n",
       "      <th>relative_humidity</th>\n",
       "      <th>DewPoint</th>\n",
       "      <th>surface_pressure</th>\n",
       "      <th>precipitation</th>\n",
       "      <th>is_holiday</th>\n",
       "      <th>is_weekend</th>\n",
       "    </tr>\n",
       "  </thead>\n",
       "  <tbody>\n",
       "    <tr>\n",
       "      <th>0</th>\n",
       "      <td>2017-01-01 00:00:00</td>\n",
       "      <td>70425.53544</td>\n",
       "      <td>6.559</td>\n",
       "      <td>73.8</td>\n",
       "      <td>0.083</td>\n",
       "      <td>93.0</td>\n",
       "      <td>13.300000</td>\n",
       "      <td>987.100000</td>\n",
       "      <td>0.0</td>\n",
       "      <td>0</td>\n",
       "      <td>1</td>\n",
       "    </tr>\n",
       "    <tr>\n",
       "      <th>1</th>\n",
       "      <td>2017-01-01 00:10:00</td>\n",
       "      <td>69320.84387</td>\n",
       "      <td>6.414</td>\n",
       "      <td>74.5</td>\n",
       "      <td>0.083</td>\n",
       "      <td>93.5</td>\n",
       "      <td>13.283333</td>\n",
       "      <td>987.216667</td>\n",
       "      <td>0.0</td>\n",
       "      <td>0</td>\n",
       "      <td>1</td>\n",
       "    </tr>\n",
       "    <tr>\n",
       "      <th>2</th>\n",
       "      <td>2017-01-01 00:20:00</td>\n",
       "      <td>67803.22193</td>\n",
       "      <td>6.313</td>\n",
       "      <td>74.5</td>\n",
       "      <td>0.080</td>\n",
       "      <td>94.0</td>\n",
       "      <td>13.266667</td>\n",
       "      <td>987.333333</td>\n",
       "      <td>0.0</td>\n",
       "      <td>0</td>\n",
       "      <td>1</td>\n",
       "    </tr>\n",
       "    <tr>\n",
       "      <th>3</th>\n",
       "      <td>2017-01-01 00:30:00</td>\n",
       "      <td>65489.23209</td>\n",
       "      <td>6.121</td>\n",
       "      <td>75.0</td>\n",
       "      <td>0.083</td>\n",
       "      <td>94.5</td>\n",
       "      <td>13.250000</td>\n",
       "      <td>987.450000</td>\n",
       "      <td>0.0</td>\n",
       "      <td>0</td>\n",
       "      <td>1</td>\n",
       "    </tr>\n",
       "    <tr>\n",
       "      <th>4</th>\n",
       "      <td>2017-01-01 00:40:00</td>\n",
       "      <td>63650.44627</td>\n",
       "      <td>5.921</td>\n",
       "      <td>75.7</td>\n",
       "      <td>0.081</td>\n",
       "      <td>95.0</td>\n",
       "      <td>13.233333</td>\n",
       "      <td>987.566667</td>\n",
       "      <td>0.0</td>\n",
       "      <td>0</td>\n",
       "      <td>1</td>\n",
       "    </tr>\n",
       "  </tbody>\n",
       "</table>\n",
       "</div>"
      ],
      "text/plain": [
       "                   ds            y  Temperature  Humidity  WindSpeed  \\\n",
       "0 2017-01-01 00:00:00  70425.53544        6.559      73.8      0.083   \n",
       "1 2017-01-01 00:10:00  69320.84387        6.414      74.5      0.083   \n",
       "2 2017-01-01 00:20:00  67803.22193        6.313      74.5      0.080   \n",
       "3 2017-01-01 00:30:00  65489.23209        6.121      75.0      0.083   \n",
       "4 2017-01-01 00:40:00  63650.44627        5.921      75.7      0.081   \n",
       "\n",
       "   relative_humidity   DewPoint  surface_pressure  precipitation  is_holiday  \\\n",
       "0               93.0  13.300000        987.100000            0.0           0   \n",
       "1               93.5  13.283333        987.216667            0.0           0   \n",
       "2               94.0  13.266667        987.333333            0.0           0   \n",
       "3               94.5  13.250000        987.450000            0.0           0   \n",
       "4               95.0  13.233333        987.566667            0.0           0   \n",
       "\n",
       "   is_weekend  \n",
       "0           1  \n",
       "1           1  \n",
       "2           1  \n",
       "3           1  \n",
       "4           1  "
      ]
     },
     "execution_count": 62,
     "metadata": {},
     "output_type": "execute_result"
    }
   ],
   "source": [
    "train_prophet.head()"
   ]
  },
  {
   "cell_type": "markdown",
   "id": "b705ebe9",
   "metadata": {},
   "source": [
    "### Forecast"
   ]
  },
  {
   "cell_type": "code",
   "execution_count": 63,
   "id": "03dcf997",
   "metadata": {},
   "outputs": [],
   "source": [
    "#Create Future DataFrame\n",
    "future = model.make_future_dataframe(periods=len(test), freq=\"10min\")\n",
    "# Add regressors to future dataframe\n",
    "for reg in regressors:\n",
    "    future[reg] = df_mbm[reg]"
   ]
  },
  {
   "cell_type": "code",
   "execution_count": 64,
   "id": "03a4f7ec",
   "metadata": {},
   "outputs": [],
   "source": [
    "#Predict\n",
    "forecast = model.predict(future)"
   ]
  },
  {
   "cell_type": "markdown",
   "id": "85652600",
   "metadata": {},
   "source": [
    "### Evaluate"
   ]
  },
  {
   "cell_type": "code",
   "execution_count": 65,
   "id": "5de2aaef",
   "metadata": {},
   "outputs": [],
   "source": [
    "#Evaluation\n",
    "forecast_test = forecast[forecast['ds'].isin(test['ds'])]\n",
    "\n",
    "y_true = test['y'].values\n",
    "y_pred = forecast_test['yhat'].values\n"
   ]
  },
  {
   "cell_type": "code",
   "execution_count": 66,
   "id": "7ef5dbd7",
   "metadata": {},
   "outputs": [
    {
     "name": "stdout",
     "output_type": "stream",
     "text": [
      "MAE: 4521.37826790627\n",
      "RMSE: 5638.635064302461\n"
     ]
    }
   ],
   "source": [
    "mae = mean_absolute_error(y_true, y_pred)\n",
    "rmse = np.sqrt(mean_squared_error(y_true, y_pred))\n",
    "print(\"MAE:\", mae)\n",
    "print(\"RMSE:\", rmse)\n"
   ]
  },
  {
   "cell_type": "code",
   "execution_count": 67,
   "id": "dd7f6e1d",
   "metadata": {},
   "outputs": [
    {
     "name": "stdout",
     "output_type": "stream",
     "text": [
      "MAPE: 6.994738338708473\n"
     ]
    }
   ],
   "source": [
    "def mean_absolute_percentage_error(y_true, y_pred):\n",
    "    y_true, y_pred = np.array(y_true), np.array(y_pred)\n",
    "    non_zero = y_true != 0\n",
    "    return np.mean(np.abs((y_true[non_zero] - y_pred[non_zero]) / y_true[non_zero])) * 100\n",
    "\n",
    "mape = mean_absolute_percentage_error(y_true, y_pred)\n",
    "print(\"MAPE:\", mape)"
   ]
  },
  {
   "cell_type": "markdown",
   "id": "f3238bf2",
   "metadata": {},
   "source": [
    "### Visualize Forecast"
   ]
  },
  {
   "cell_type": "code",
   "execution_count": 68,
   "id": "24bbc662",
   "metadata": {},
   "outputs": [
    {
     "data": {
      "image/png": "[encoded data removed]",
      "text/plain": [
       "<Figure size 1000x600 with 1 Axes>"
      ]
     },
     "metadata": {},
     "output_type": "display_data"
    }
   ],
   "source": [
    "# Step 9: Plots\n",
    "# Full forecast plot\n",
    "fig1 = model.plot(forecast)\n",
    "plt.title(\"Electricity Demand Forecast (Train + Test)\")\n",
    "plt.show()\n",
    "\n",
    "#What the graph shows\n",
    "#X-axis (ds): Dates (2017-01 to 2018-01).\n",
    "#Y-axis (y): Electricity demand (power consumption).\n",
    "#Black dots/line: Actual observed demand.\n",
    "#Blue line + shaded region: Prophet’s forecast (mean prediction + uncertainty interval).\n",
    "#------------------------------------------------------------------------------------------------\n",
    "#Light blue shaded area: Confidence interval (uncertainty). Wider at the edges, especially after the training period → typical in forecasting.\n",
    "#From Jan to Aug 2017, the forecast (blue) follows the actual demand (black) very closely.\n",
    "#This means the model is capturing seasonality + trends well."
   ]
  },
  {
   "cell_type": "code",
   "execution_count": 69,
   "id": "ade7f1a8",
   "metadata": {},
   "outputs": [
    {
     "data": {
      "image/png": "[encoded data removed]",
      "text/plain": [
       "<Figure size 900x1200 with 4 Axes>"
      ]
     },
     "metadata": {},
     "output_type": "display_data"
    }
   ],
   "source": [
    "# Components plot\n",
    "fig2 = model.plot_components(forecast)\n",
    "plt.show()\n",
    "\n",
    "# Trend graph show - The blue line is the overall demand trend. \n",
    "#The shaded area (uncertainty) grows a lot after Sep, meaning the model is less confident in its long-term forecast.\n",
    "#This shows Prophet has captured the seasonal peak in summer months.\n"
   ]
  },
  {
   "cell_type": "markdown",
   "id": "2330944d",
   "metadata": {},
   "source": [
    "## Save Prophet model and metadata"
   ]
  },
  {
   "cell_type": "code",
   "execution_count": 70,
   "id": "49f24ed4",
   "metadata": {},
   "outputs": [],
   "source": [
    "# Save Prophet model and metadata from Jupyter\n",
    "import pickle\n",
    "import json\n",
    "import joblib    \n",
    "import pandas as pd"
   ]
  },
  {
   "cell_type": "code",
   "execution_count": 71,
   "id": "36b2e4ed",
   "metadata": {},
   "outputs": [
    {
     "data": {
      "text/plain": [
       "'✅ Prophet model saved as prophet_model_v2.pkl'"
      ]
     },
     "execution_count": 71,
     "metadata": {},
     "output_type": "execute_result"
    }
   ],
   "source": [
    "# Save the new Prophet model\n",
    "with open(\"prophet_model_v2.pkl\", \"wb\") as f:\n",
    "    pickle.dump(model, f)\n",
    "\"✅ Prophet model saved as prophet_model_v2.pkl\""
   ]
  },
  {
   "cell_type": "code",
   "execution_count": 72,
   "id": "965a65b8",
   "metadata": {},
   "outputs": [
    {
     "data": {
      "text/plain": [
       "'✅ Training data saved as training_data_v2.csv with shape: (43776, 11)'"
      ]
     },
     "execution_count": 72,
     "metadata": {},
     "output_type": "execute_result"
    }
   ],
   "source": [
    "# Save the new training dataset\n",
    "train_prophet.to_csv(\"training_data_v2.csv\", index=False)\n",
    "f\"✅ Training data saved as training_data_v2.csv with shape: {train_prophet.shape}\"\n"
   ]
  },
  {
   "cell_type": "code",
   "execution_count": 73,
   "id": "a29d1fec",
   "metadata": {},
   "outputs": [
    {
     "data": {
      "text/plain": [
       "'✅ Metadata saved as model_meta_v2.json'"
      ]
     },
     "execution_count": 73,
     "metadata": {},
     "output_type": "execute_result"
    }
   ],
   "source": [
    "# Save the new metadata\n",
    "meta = {\n",
    "    \"regressors\": regressors,\n",
    "    \"freq\": \"10min\",\n",
    "    \"ds_name\": \"ds\",\n",
    "    \"y_name\": \"y\",\n",
    "    \"train_start\": str(train['ds'].min()),\n",
    "    \"train_end\": str(train['ds'].max()),\n",
    "    \"test_start\": str(test['ds'].min()),\n",
    "    \"test_end\": str(test['ds'].max())\n",
    "}\n",
    "with open(\"model_meta_v2.json\", \"w\") as f:\n",
    "    json.dump(meta, f, indent=4)\n",
    "\"✅ Metadata saved as model_meta_v2.json\""
   ]
  },
  {
   "cell_type": "code",
   "execution_count": null,
   "id": "082b16c5",
   "metadata": {},
   "outputs": [],
   "source": []
  }
 ],
 "metadata": {
  "kernelspec": {
   "display_name": "Python 3 (ipykernel)",
   "language": "python",
   "name": "python3"
  },
  "language_info": {
   "codemirror_mode": {
    "name": "ipython",
    "version": 3
   },
   "file_extension": ".py",
   "mimetype": "text/x-python",
   "name": "python",
   "nbconvert_exporter": "python",
   "pygments_lexer": "ipython3",
   "version": "3.11.5"
  }
 },
 "nbformat": 4,
 "nbformat_minor": 5
}
